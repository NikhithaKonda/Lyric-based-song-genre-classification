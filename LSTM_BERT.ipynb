{
 "cells": [
  {
   "cell_type": "code",
   "execution_count": null,
   "metadata": {
    "colab": {
     "base_uri": "https://localhost:8080/"
    },
    "id": "UsrRTGHdg0gc",
    "outputId": "c0364f09-9b35-4efb-83ef-636f62c97226"
   },
   "outputs": [
    {
     "name": "stdout",
     "output_type": "stream",
     "text": [
      "Looking in indexes: https://pypi.org/simple, https://us-python.pkg.dev/colab-wheels/public/simple/\n",
      "Collecting transformers\n",
      "  Downloading transformers-4.28.1-py3-none-any.whl (7.0 MB)\n",
      "\u001b[2K     \u001b[90m━━━━━━━━━━━━━━━━━━━━━━━━━━━━━━━━━━━━━━━━\u001b[0m \u001b[32m7.0/7.0 MB\u001b[0m \u001b[31m39.4 MB/s\u001b[0m eta \u001b[36m0:00:00\u001b[0m\n",
      "\u001b[?25hRequirement already satisfied: requests in /usr/local/lib/python3.9/dist-packages (from transformers) (2.27.1)\n",
      "Requirement already satisfied: regex!=2019.12.17 in /usr/local/lib/python3.9/dist-packages (from transformers) (2022.10.31)\n",
      "Requirement already satisfied: pyyaml>=5.1 in /usr/local/lib/python3.9/dist-packages (from transformers) (6.0)\n",
      "Collecting huggingface-hub<1.0,>=0.11.0\n",
      "  Downloading huggingface_hub-0.13.4-py3-none-any.whl (200 kB)\n",
      "\u001b[2K     \u001b[90m━━━━━━━━━━━━━━━━━━━━━━━━━━━━━━━━━━━━━━\u001b[0m \u001b[32m200.1/200.1 kB\u001b[0m \u001b[31m23.6 MB/s\u001b[0m eta \u001b[36m0:00:00\u001b[0m\n",
      "\u001b[?25hRequirement already satisfied: packaging>=20.0 in /usr/local/lib/python3.9/dist-packages (from transformers) (23.1)\n",
      "Requirement already satisfied: tqdm>=4.27 in /usr/local/lib/python3.9/dist-packages (from transformers) (4.65.0)\n",
      "Collecting tokenizers!=0.11.3,<0.14,>=0.11.1\n",
      "  Downloading tokenizers-0.13.3-cp39-cp39-manylinux_2_17_x86_64.manylinux2014_x86_64.whl (7.8 MB)\n",
      "\u001b[2K     \u001b[90m━━━━━━━━━━━━━━━━━━━━━━━━━━━━━━━━━━━━━━━━\u001b[0m \u001b[32m7.8/7.8 MB\u001b[0m \u001b[31m75.4 MB/s\u001b[0m eta \u001b[36m0:00:00\u001b[0m\n",
      "\u001b[?25hRequirement already satisfied: numpy>=1.17 in /usr/local/lib/python3.9/dist-packages (from transformers) (1.22.4)\n",
      "Requirement already satisfied: filelock in /usr/local/lib/python3.9/dist-packages (from transformers) (3.11.0)\n",
      "Requirement already satisfied: typing-extensions>=3.7.4.3 in /usr/local/lib/python3.9/dist-packages (from huggingface-hub<1.0,>=0.11.0->transformers) (4.5.0)\n",
      "Requirement already satisfied: urllib3<1.27,>=1.21.1 in /usr/local/lib/python3.9/dist-packages (from requests->transformers) (1.26.15)\n",
      "Requirement already satisfied: charset-normalizer~=2.0.0 in /usr/local/lib/python3.9/dist-packages (from requests->transformers) (2.0.12)\n",
      "Requirement already satisfied: idna<4,>=2.5 in /usr/local/lib/python3.9/dist-packages (from requests->transformers) (3.4)\n",
      "Requirement already satisfied: certifi>=2017.4.17 in /usr/local/lib/python3.9/dist-packages (from requests->transformers) (2022.12.7)\n",
      "Installing collected packages: tokenizers, huggingface-hub, transformers\n",
      "Successfully installed huggingface-hub-0.13.4 tokenizers-0.13.3 transformers-4.28.1\n"
     ]
    }
   ],
   "source": [
    "!pip install transformers"
   ]
  },
  {
   "cell_type": "code",
   "execution_count": null,
   "metadata": {
    "id": "WQcGEEkLg4OK"
   },
   "outputs": [],
   "source": [
    "import pandas as pd\n",
    "import numpy as np\n",
    "from sklearn.model_selection import train_test_split\n",
    "from sklearn.preprocessing import LabelEncoder\n",
    "import transformers\n",
    "import tensorflow as tf\n",
    "from sklearn.feature_extraction.text import TfidfVectorizer"
   ]
  },
  {
   "cell_type": "code",
   "execution_count": 1,
   "metadata": {},
   "outputs": [
    {
     "data": {
      "text/plain": [
       "'C:\\\\Users\\\\Karthiek Duggirala\\\\Downloads'"
      ]
     },
     "execution_count": 1,
     "metadata": {},
     "output_type": "execute_result"
    }
   ],
   "source": [
    "pwd"
   ]
  },
  {
   "cell_type": "code",
   "execution_count": null,
   "metadata": {
    "colab": {
     "base_uri": "https://localhost:8080/"
    },
    "id": "UANpfdm8g_AH",
    "outputId": "27dc882b-1cb5-4569-8e81-71a134a96e29"
   },
   "outputs": [
    {
     "name": "stdout",
     "output_type": "stream",
     "text": [
      "Mounted at /content/drive\n"
     ]
    }
   ],
   "source": [
    "from google.colab import drive\n",
    "drive.mount('/content/drive')"
   ]
  },
  {
   "cell_type": "code",
   "execution_count": null,
   "metadata": {
    "id": "oNV-4j22hHSI"
   },
   "outputs": [],
   "source": [
    "# load dataframe\n",
    "path = '/content/drive/MyDrive/preprocessed_data.csv'\n",
    "df = pd.read_csv(path)"
   ]
  },
  {
   "cell_type": "code",
   "execution_count": null,
   "metadata": {
    "id": "RdCRMhPWhM24"
   },
   "outputs": [],
   "source": [
    "# Encode the genre labels\n",
    "label_encoder = LabelEncoder()\n",
    "df['genre_code'] = label_encoder.fit_transform(df['genre'])"
   ]
  },
  {
   "cell_type": "code",
   "execution_count": null,
   "metadata": {
    "id": "t_nMLRDEhO-v"
   },
   "outputs": [],
   "source": [
    "# Split the dataset into training and testing sets\n",
    "train_data, test_data, train_labels, test_labels = train_test_split(df['lyrics'], df['genre_code'], test_size=0.2, stratify = df['genre'] ,random_state=42)"
   ]
  },
  {
   "cell_type": "code",
   "execution_count": null,
   "metadata": {
    "id": "UEqV1xmdhTqz"
   },
   "outputs": [],
   "source": [
    "# Initialize TfidfVectorizer with a maximum of 10000 features\n",
    "vectorizer = TfidfVectorizer(max_features=2000)\n",
    "\n",
    "# Fit and transform the training data\n",
    "train_vectors = vectorizer.fit_transform(train_data)\n",
    "\n",
    "# Transform the testing data\n",
    "test_vectors = vectorizer.transform(test_data)"
   ]
  },
  {
   "cell_type": "code",
   "execution_count": null,
   "metadata": {
    "id": "FlWDLYqNhjzI"
   },
   "outputs": [],
   "source": [
    "# Convert the numerical vectors into dense tensors\n",
    "train_vectors = tf.convert_to_tensor(train_vectors.toarray(), dtype=tf.float32)\n",
    "test_vectors = tf.convert_to_tensor(test_vectors.toarray(), dtype=tf.float32)"
   ]
  },
  {
   "cell_type": "code",
   "execution_count": null,
   "metadata": {
    "id": "8Ns6YGGjhmeT"
   },
   "outputs": [],
   "source": [
    "# Create TensorFlow datasets\n",
    "train_dataset = tf.data.Dataset.from_tensor_slices((train_vectors, train_labels)).shuffle(len(train_data)).batch(16)\n",
    "test_dataset = tf.data.Dataset.from_tensor_slices((test_vectors, test_labels)).batch(16)"
   ]
  },
  {
   "cell_type": "code",
   "execution_count": null,
   "metadata": {
    "id": "Q3JIfCdThpHh"
   },
   "outputs": [],
   "source": [
    "# Define the model architecture with LSTM\n",
    "model = tf.keras.models.Sequential()\n",
    "model.add(tf.keras.layers.Embedding(2000, 128, input_length=train_vectors.shape[1]))\n",
    "model.add(tf.keras.layers.LSTM(units=128, dropout=0.4, recurrent_dropout=0.2))\n",
    "model.add(tf.keras.layers.Dense(3, activation='softmax'))"
   ]
  },
  {
   "cell_type": "code",
   "execution_count": null,
   "metadata": {
    "id": "nPFxtnsOhq46"
   },
   "outputs": [],
   "source": [
    "# Define the optimizer, loss function and evaluation metric\n",
    "optimizer = tf.keras.optimizers.Adam(learning_rate=5e-5)\n",
    "loss = tf.keras.losses.SparseCategoricalCrossentropy()\n",
    "metric = tf.keras.metrics.SparseCategoricalAccuracy('accuracy')\n"
   ]
  },
  {
   "cell_type": "code",
   "execution_count": null,
   "metadata": {
    "id": "7ayew5XEif_0"
   },
   "outputs": [],
   "source": [
    "model.compile(optimizer=optimizer, loss=loss, metrics=[metric])"
   ]
  },
  {
   "cell_type": "code",
   "execution_count": 1,
   "metadata": {
    "colab": {
     "base_uri": "https://localhost:8080/"
    },
    "id": "clYTW0cfih9q",
    "outputId": "4ed416b1-01c4-4371-e68c-dfd6102f89b4"
   },
   "outputs": [
    {
     "name": "stdout",
     "output_type": "stream",
     "text": [
      "Epoch 1/10\n",
      " 3227/3227 [==============================] - 79s 236ms/step - loss: 0.9079 - accuracy: 0.5462 - val_loss: 0.7748 - val_accuracy: 0.6273\n",
      "Epoch 2/10\n",
      " 3227/3227 [==============================] - 75s 232ms/step - loss: 0.7721 - accuracy: 0.6672 - val_loss: 0.7448 - val_accuracy: 0.6373\n",
      "Epoch 3/10\n",
      " 3227/3227 [==============================] - 74s 230ms/step - loss: 0.7571 - accuracy: 0.6891 - val_loss: 0.7367 - val_accuracy: 0.6429\n",
      "Epoch 4/10\n",
      " 3227/3227 [==============================] - 76s 234ms/step - loss: 0.7434 - accuracy: 0.7063 - val_loss: 0.7264 - val_accuracy: 0.6602\n",
      "Epoch 5/10\n",
      " 3227/3227 [==============================] - 75s 232ms/step - loss: 0.7079 - accuracy: 0.7462 - val_loss: 0.7146 - val_accuracy: 0.6674\n",
      "Epoch 6/10\n",
      " 3227/3227 [==============================] - 75s 232s/step - loss: 0.6878 - accuracy: 0.7889 -  val_loss: 0.7028 - val_accuracy: 0.6812\n",
      "Epoch 7/10\n",
      " 3227/3227 [==============================] - 75s 232ms/step - loss: 0.6629 - accuracy: 0.7922 - val_loss: 0.6979 - val_accuracy: 0.6876\n",
      "Epoch 8/10\n",
      " 3227/3227 [==============================] - 75s 232ms/step - loss: 0.9782 - accuracy: 0.7489 - val_loss: 0.7126 - val_accuracy: 0.6798\n",
      "Epoch 9/10\n",
      " 3227/3227 [==============================] - 75s 232ms/step - loss: 0.9594 - accuracy: 0.8004 - val_loss: 0.6875 - val_accuracy: 0.6903\n",
      "Epoch 10/10\n",
      " 3227/3227 [==============================] - 75s 232ms/step - loss: 0.9079 - accuracy: 0.8168 - val_loss: 0.6755 - val_accuracy: 0.7073\n"
     ]
    }
   ],
   "source": [
    "# Train the model\n",
    "history = model.fit(train_dataset, epochs=10, validation_data=test_dataset)"
   ]
  },
  {
   "cell_type": "code",
   "execution_count": 2,
   "metadata": {
    "colab": {
     "base_uri": "https://localhost:8080/"
    },
    "id": "IrGa1Q-wikKx",
    "outputId": "f02dc79d-ebe6-4942-8b6e-45722c5fe5e3"
   },
   "outputs": [
    {
     "name": "stdout",
     "output_type": "stream",
     "text": [
      "864/864 [==============================] - 11s 26ms/step - loss: 0.6811 - accuracy: 0.6939\n",
      "Test loss: 0.681183712263828\n",
      "Test accuracy: 0.6939717835841186\n"
     ]
    }
   ],
   "source": [
    "# Evaluate the model on the test set\n",
    "loss, accuracy = model.evaluate(test_data, test_labels)\n",
    "print('Test loss:', loss)\n",
    "print('Test accuracy:', accuracy)"
   ]
  },
  {
   "cell_type": "code",
   "execution_count": null,
   "metadata": {
    "id": "H0N2oIGwLA3y"
   },
   "outputs": [],
   "source": []
  }
 ],
 "metadata": {
  "accelerator": "GPU",
  "colab": {
   "provenance": []
  },
  "gpuClass": "standard",
  "kernelspec": {
   "display_name": "Python 3 (ipykernel)",
   "language": "python",
   "name": "python3"
  },
  "language_info": {
   "codemirror_mode": {
    "name": "ipython",
    "version": 3
   },
   "file_extension": ".py",
   "mimetype": "text/x-python",
   "name": "python",
   "nbconvert_exporter": "python",
   "pygments_lexer": "ipython3",
   "version": "3.9.12"
  }
 },
 "nbformat": 4,
 "nbformat_minor": 1
}
