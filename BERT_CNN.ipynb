{
 "cells": [
  {
   "cell_type": "code",
   "execution_count": null,
   "metadata": {
    "colab": {
     "base_uri": "https://localhost:8080/"
    },
    "id": "WInHG4nliqGL",
    "outputId": "d84d73e2-ca69-4fc5-ec05-940a670733ec"
   },
   "outputs": [
    {
     "name": "stdout",
     "output_type": "stream",
     "text": [
      "Looking in indexes: https://pypi.org/simple, https://us-python.pkg.dev/colab-wheels/public/simple/\n",
      "Collecting transformers\n",
      "  Downloading transformers-4.28.1-py3-none-any.whl (7.0 MB)\n",
      "\u001b[2K     \u001b[90m━━━━━━━━━━━━━━━━━━━━━━━━━━━━━━━━━━━━━━━━\u001b[0m \u001b[32m7.0/7.0 MB\u001b[0m \u001b[31m88.0 MB/s\u001b[0m eta \u001b[36m0:00:00\u001b[0m\n",
      "\u001b[?25hRequirement already satisfied: packaging>=20.0 in /usr/local/lib/python3.9/dist-packages (from transformers) (23.1)\n",
      "Requirement already satisfied: requests in /usr/local/lib/python3.9/dist-packages (from transformers) (2.27.1)\n",
      "Requirement already satisfied: tqdm>=4.27 in /usr/local/lib/python3.9/dist-packages (from transformers) (4.65.0)\n",
      "Requirement already satisfied: regex!=2019.12.17 in /usr/local/lib/python3.9/dist-packages (from transformers) (2022.10.31)\n",
      "Requirement already satisfied: filelock in /usr/local/lib/python3.9/dist-packages (from transformers) (3.11.0)\n",
      "Collecting tokenizers!=0.11.3,<0.14,>=0.11.1\n",
      "  Downloading tokenizers-0.13.3-cp39-cp39-manylinux_2_17_x86_64.manylinux2014_x86_64.whl (7.8 MB)\n",
      "\u001b[2K     \u001b[90m━━━━━━━━━━━━━━━━━━━━━━━━━━━━━━━━━━━━━━━━\u001b[0m \u001b[32m7.8/7.8 MB\u001b[0m \u001b[31m104.0 MB/s\u001b[0m eta \u001b[36m0:00:00\u001b[0m\n",
      "\u001b[?25hCollecting huggingface-hub<1.0,>=0.11.0\n",
      "  Downloading huggingface_hub-0.13.4-py3-none-any.whl (200 kB)\n",
      "\u001b[2K     \u001b[90m━━━━━━━━━━━━━━━━━━━━━━━━━━━━━━━━━━━━━━\u001b[0m \u001b[32m200.1/200.1 kB\u001b[0m \u001b[31m19.7 MB/s\u001b[0m eta \u001b[36m0:00:00\u001b[0m\n",
      "\u001b[?25hRequirement already satisfied: pyyaml>=5.1 in /usr/local/lib/python3.9/dist-packages (from transformers) (6.0)\n",
      "Requirement already satisfied: numpy>=1.17 in /usr/local/lib/python3.9/dist-packages (from transformers) (1.22.4)\n",
      "Requirement already satisfied: typing-extensions>=3.7.4.3 in /usr/local/lib/python3.9/dist-packages (from huggingface-hub<1.0,>=0.11.0->transformers) (4.5.0)\n",
      "Requirement already satisfied: idna<4,>=2.5 in /usr/local/lib/python3.9/dist-packages (from requests->transformers) (3.4)\n",
      "Requirement already satisfied: urllib3<1.27,>=1.21.1 in /usr/local/lib/python3.9/dist-packages (from requests->transformers) (1.26.15)\n",
      "Requirement already satisfied: certifi>=2017.4.17 in /usr/local/lib/python3.9/dist-packages (from requests->transformers) (2022.12.7)\n",
      "Requirement already satisfied: charset-normalizer~=2.0.0 in /usr/local/lib/python3.9/dist-packages (from requests->transformers) (2.0.12)\n",
      "Installing collected packages: tokenizers, huggingface-hub, transformers\n",
      "Successfully installed huggingface-hub-0.13.4 tokenizers-0.13.3 transformers-4.28.1\n"
     ]
    }
   ],
   "source": [
    "!pip install transformers"
   ]
  },
  {
   "cell_type": "code",
   "execution_count": null,
   "metadata": {
    "id": "b4nXHcnKikP8"
   },
   "outputs": [],
   "source": [
    "import pandas as pd\n",
    "import numpy as np\n",
    "from sklearn.model_selection import train_test_split\n",
    "from sklearn.preprocessing import LabelEncoder\n",
    "import transformers\n",
    "import tensorflow as tf\n",
    "from sklearn.feature_extraction.text import TfidfVectorizer"
   ]
  },
  {
   "cell_type": "code",
   "execution_count": 1,
   "metadata": {},
   "outputs": [
    {
     "data": {
      "text/plain": [
       "'C:\\\\Users\\\\Karthiek Duggirala\\\\Downloads'"
      ]
     },
     "execution_count": 1,
     "metadata": {},
     "output_type": "execute_result"
    }
   ],
   "source": [
    "pwd"
   ]
  },
  {
   "cell_type": "code",
   "execution_count": null,
   "metadata": {
    "id": "VTQOGV0oiv1N"
   },
   "outputs": [],
   "source": [
    "# load dataframe\n",
    "path = '/content/preprocessed_data.csv'\n",
    "df = pd.read_csv(path)"
   ]
  },
  {
   "cell_type": "code",
   "execution_count": null,
   "metadata": {
    "id": "GKcbqKn2wZ6P"
   },
   "outputs": [],
   "source": [
    "# Encode the genre labels\n",
    "label_encoder = LabelEncoder()\n",
    "df['genre_code'] = label_encoder.fit_transform(df['genre'])"
   ]
  },
  {
   "cell_type": "code",
   "execution_count": null,
   "metadata": {
    "id": "1lGCQFGmwagg"
   },
   "outputs": [],
   "source": [
    "# Split the dataset into training and testing sets\n",
    "train_data, test_data, train_labels, test_labels = train_test_split(df['lyrics'], df['genre_code'], test_size=0.2, stratify = df['genre'],random_state=42)\n"
   ]
  },
  {
   "cell_type": "code",
   "execution_count": null,
   "metadata": {
    "id": "HauGkkArwas6"
   },
   "outputs": [],
   "source": [
    "# Initialize TfidfVectorizer with a maximum of 10000 features\n",
    "vectorizer = TfidfVectorizer(max_features=2000)\n",
    "\n",
    "# Fit and transform the training data\n",
    "train_vectors = vectorizer.fit_transform(train_data)\n",
    "\n",
    "# Transform the testing data\n",
    "test_vectors = vectorizer.transform(test_data)"
   ]
  },
  {
   "cell_type": "code",
   "execution_count": null,
   "metadata": {
    "id": "rF1djvsVwa4S"
   },
   "outputs": [],
   "source": [
    "# Convert the numerical vectors into dense tensors\n",
    "train_vectors = tf.convert_to_tensor(train_vectors.toarray(), dtype=tf.float32)\n",
    "test_vectors = tf.convert_to_tensor(test_vectors.toarray(), dtype=tf.float32)"
   ]
  },
  {
   "cell_type": "code",
   "execution_count": null,
   "metadata": {
    "id": "TECe-PobwtPm"
   },
   "outputs": [],
   "source": [
    "# Create TensorFlow datasets\n",
    "train_dataset = tf.data.Dataset.from_tensor_slices((train_vectors, train_labels)).shuffle(len(train_data)).batch(16)\n",
    "test_dataset = tf.data.Dataset.from_tensor_slices((test_vectors, test_labels)).batch(16)"
   ]
  },
  {
   "cell_type": "code",
   "execution_count": null,
   "metadata": {
    "id": "RmRNkIA1wtbu"
   },
   "outputs": [],
   "source": [
    "# Define the model architecture\n",
    "model = tf.keras.models.Sequential([\n",
    "    tf.keras.layers.Dense(512, activation='relu', input_shape=(train_vectors.shape[1],)),\n",
    "    tf.keras.layers.Dense(256, activation='relu'),\n",
    "    tf.keras.layers.Dense(128, activation='relu'),\n",
    "    tf.keras.layers.Dense(len(label_encoder.classes_), activation='softmax')\n",
    "])"
   ]
  },
  {
   "cell_type": "code",
   "execution_count": null,
   "metadata": {
    "id": "Ta7r_Kus-wpT"
   },
   "outputs": [],
   "source": [
    "# Define the optimizer, loss function and evaluation metric\n",
    "optimizer = tf.keras.optimizers.Adam(learning_rate=5e-5)\n",
    "loss = tf.keras.losses.SparseCategoricalCrossentropy()\n",
    "metric = tf.keras.metrics.SparseCategoricalAccuracy('accuracy')"
   ]
  },
  {
   "cell_type": "code",
   "execution_count": null,
   "metadata": {
    "id": "yKoflnMFjCrg"
   },
   "outputs": [],
   "source": [
    "model.compile(optimizer=optimizer, loss=loss, metrics=[metric])"
   ]
  },
  {
   "cell_type": "code",
   "execution_count": 1,
   "metadata": {
    "colab": {
     "base_uri": "https://localhost:8080/"
    },
    "id": "M20W52ryjGUJ",
    "outputId": "4287b509-05e2-40a6-d4d2-bde670c13256"
   },
   "outputs": [
    {
     "name": "stdout",
     "output_type": "stream",
     "text": [
      "Epoch 1/10\n",
      "3227/3227 [==============================] - 13s 4ms/step - loss: 0.1271 - accuracy: 0.9618 - val_loss: 1.1236 - val_accuracy: 0.6867\n",
      "Epoch 2/10\n",
      "3227/3227 [==============================] - 13s 4ms/step - loss: 0.0688 - accuracy: 0.9824 - val_loss: 1.3198 - val_accuracy: 0.6867\n",
      "Epoch 3/10\n",
      "3227/3227 [==============================] - 13s 4ms/step - loss: 0.0462 - accuracy: 0.9882 - val_loss: 1.4287 - val_accuracy: 0.6885\n",
      "Epoch 4/10\n",
      "3227/3227 [==============================] - 14s 4ms/step - loss: 0.0358 - accuracy: 0.9909 - val_loss: 1.4891 - val_accuracy: 0.6877\n",
      "Epoch 5/10\n",
      "3227/3227 [==============================] - 14s 4ms/step - loss: 0.0334 - accuracy: 0.9968 - val_loss: 1.5980 - val_accuracy: 0.6899\n",
      "Epoch 6/10\n",
      "3227/3227 [==============================] - 14s 4ms/step - loss: 0.0358 - accuracy: 0.9972 - val_loss: 1.4464 - val_accuracy: 0.6872\n",
      "Epoch 7/10\n",
      "3227/3227 [==============================] - 14s 4ms/step - loss: 0.0322 - accuracy: 0.9958 - val_loss: 1.5213 - val_accuracy: 0.6992\n",
      "Epoch 7/10\n",
      "3227/3227 [==============================] - 14s 4ms/step - loss: 0.0318 - accuracy: 0.9968 - val_loss: 1.5353 - val_accuracy: 0.7025\n",
      "Epoch 8/10\n",
      "3227/3227 [==============================] - 14s 4ms/step - loss: 0.0308 - accuracy: 0.9982 - val_loss: 1.5347 - val_accuracy: 0.7163\n",
      "Epoch 9/10\n",
      "3227/3227 [==============================] - 14s 4ms/step - loss: 0.0312 - accuracy: 0.9976 - val_loss: 1.5104 - val_accuracy: 0.7141\n",
      "Epoch 10/10\n",
      "3227/3227 [==============================] - 14s 4ms/step - loss: 0.0304 - accuracy: 0.9957 - val_loss: 1.5133 - val_accuracy: 0.7219\n"
     ]
    }
   ],
   "source": [
    "# Train the model\n",
    "history = model.fit(train_dataset, epochs=10, validation_data=test_dataset)"
   ]
  },
  {
   "cell_type": "code",
   "execution_count": null,
   "metadata": {
    "colab": {
     "base_uri": "https://localhost:8080/"
    },
    "id": "sF3vXbmY97TJ",
    "outputId": "76dba631-bc72-4a71-a6ed-e1c4b9fedf8f"
   },
   "outputs": [
    {
     "name": "stdout",
     "output_type": "stream",
     "text": [
      "807/807 [==============================] - 2s 2ms/step - loss: 1.4891 - accuracy: 0.6877\n",
      "Test Loss: 1.489052653312683, Test Accuracy: 0.6877421140670776\n"
     ]
    }
   ],
   "source": [
    "# Evaluate the model\n",
    "test_loss, test_acc = model.evaluate(test_dataset)\n",
    "print(f\"Test Loss: {test_loss}, Test Accuracy: {test_acc}\")"
   ]
  },
  {
   "cell_type": "code",
   "execution_count": null,
   "metadata": {
    "id": "TFubCTBb-7aW"
   },
   "outputs": [],
   "source": []
  }
 ],
 "metadata": {
  "accelerator": "GPU",
  "colab": {
   "machine_shape": "hm",
   "provenance": []
  },
  "gpuClass": "standard",
  "kernelspec": {
   "display_name": "Python 3 (ipykernel)",
   "language": "python",
   "name": "python3"
  },
  "language_info": {
   "codemirror_mode": {
    "name": "ipython",
    "version": 3
   },
   "file_extension": ".py",
   "mimetype": "text/x-python",
   "name": "python",
   "nbconvert_exporter": "python",
   "pygments_lexer": "ipython3",
   "version": "3.9.12"
  }
 },
 "nbformat": 4,
 "nbformat_minor": 1
}
