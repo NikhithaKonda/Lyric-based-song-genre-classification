{
 "cells": [
  {
   "cell_type": "code",
   "execution_count": 1,
   "id": "138045d0",
   "metadata": {},
   "outputs": [],
   "source": [
    "import pandas as pd\n",
    "import numpy as np\n",
    "from sklearn.model_selection import train_test_split\n",
    "from sklearn.ensemble import RandomForestClassifier, GradientBoostingClassifier\n",
    "from sklearn.pipeline import Pipeline\n",
    "from sklearn.metrics import accuracy_score, classification_report\n",
    "from gensim.models import Word2Vec\n",
    "from sklearn.linear_model import LogisticRegression\n",
    "from sklearn.naive_bayes import GaussianNB, MultinomialNB\n",
    "from sklearn.svm import SVC\n",
    "from sklearn.feature_extraction.text import CountVectorizer, TfidfTransformer\n",
    "from sklearn.neighbors import KNeighborsClassifier\n",
    "from sklearn.neural_network import MLPClassifier"
   ]
  },
  {
   "cell_type": "code",
   "execution_count": 6,
   "id": "85926f12",
   "metadata": {},
   "outputs": [
    {
     "data": {
      "text/plain": [
       "'C:\\\\Users\\\\Karthiek Duggirala'"
      ]
     },
     "execution_count": 6,
     "metadata": {},
     "output_type": "execute_result"
    }
   ],
   "source": [
    "pwd"
   ]
  },
  {
   "cell_type": "code",
   "execution_count": 2,
   "id": "7776b82e",
   "metadata": {},
   "outputs": [],
   "source": [
    "df = pd.read_csv('C:\\\\Users\\\\Karthiek Duggirala\\\\Downloads\\\\preprocessed_data.csv')"
   ]
  },
  {
   "cell_type": "code",
   "execution_count": 3,
   "id": "2154f8ff",
   "metadata": {},
   "outputs": [],
   "source": [
    "# Train Word2Vec model on the corpus\n",
    "corpus = [doc.split() for doc in df['lyrics']]\n",
    "w2v_model = Word2Vec(corpus, vector_size=100, window=5, min_count=1)"
   ]
  },
  {
   "cell_type": "code",
   "execution_count": 4,
   "id": "eb5a06bc",
   "metadata": {},
   "outputs": [],
   "source": [
    "# Convert text data into word embeddings using the trained Word2Vec model\n",
    "X = np.array([np.mean([w2v_model.wv[word] for word in doc.split() if word in w2v_model.wv], axis=0) for doc in df['lyrics']])\n",
    "y = np.array(df['genre'])"
   ]
  },
  {
   "cell_type": "code",
   "execution_count": 5,
   "id": "4745c255",
   "metadata": {},
   "outputs": [],
   "source": [
    "# Split data into training and test sets\n",
    "X_train, X_test, y_train, y_test = train_test_split(X, y, test_size=0.2, random_state=42)"
   ]
  },
  {
   "cell_type": "code",
   "execution_count": 9,
   "id": "6162da0e",
   "metadata": {},
   "outputs": [],
   "source": [
    "# Define pipeline with Random Forest Classifier\n",
    "rf_pipeline = Pipeline([\n",
    "    ('clf', RandomForestClassifier(random_state=42))\n",
    "])"
   ]
  },
  {
   "cell_type": "code",
   "execution_count": 10,
   "id": "0563322e",
   "metadata": {},
   "outputs": [
    {
     "data": {
      "text/plain": [
       "Pipeline(steps=[('clf', RandomForestClassifier(random_state=42))])"
      ]
     },
     "execution_count": 10,
     "metadata": {},
     "output_type": "execute_result"
    }
   ],
   "source": [
    "# Fit pipeline to training data\n",
    "rf_pipeline.fit(X_train, y_train)"
   ]
  },
  {
   "cell_type": "code",
   "execution_count": 11,
   "id": "8cce466c",
   "metadata": {},
   "outputs": [],
   "source": [
    "# Make predictions on test data\n",
    "rf_pred = rf_pipeline.predict(X_test)"
   ]
  },
  {
   "cell_type": "code",
   "execution_count": 12,
   "id": "b98cdb18",
   "metadata": {},
   "outputs": [],
   "source": [
    "# Evaluate model performance\n",
    "rf_acc = accuracy_score(y_test, rf_pred)"
   ]
  },
  {
   "cell_type": "code",
   "execution_count": 13,
   "id": "f686aefa",
   "metadata": {},
   "outputs": [
    {
     "name": "stdout",
     "output_type": "stream",
     "text": [
      "Random Forest Classifier Accuracy: 0.6817759181775919\n",
      "              precision    recall  f1-score   support\n",
      "\n",
      "      hiphop       0.87      0.80      0.83      4263\n",
      "         pop       0.59      0.60      0.60      4230\n",
      "        rock       0.61      0.65      0.63      4413\n",
      "\n",
      "    accuracy                           0.68     12906\n",
      "   macro avg       0.69      0.68      0.69     12906\n",
      "weighted avg       0.69      0.68      0.68     12906\n",
      "\n"
     ]
    }
   ],
   "source": [
    "print(\"Random Forest Classifier Accuracy:\", rf_acc)\n",
    "print(classification_report(y_test, rf_pred))"
   ]
  },
  {
   "cell_type": "code",
   "execution_count": 19,
   "id": "06f0b928",
   "metadata": {},
   "outputs": [],
   "source": [
    "# Define pipeline with Gradient Boosting Classifier\n",
    "gb_pipeline = Pipeline([\n",
    "    ('clf', GradientBoostingClassifier(random_state=42))\n",
    "])"
   ]
  },
  {
   "cell_type": "code",
   "execution_count": 20,
   "id": "31ab5b06",
   "metadata": {},
   "outputs": [
    {
     "data": {
      "text/plain": [
       "Pipeline(steps=[('clf', GradientBoostingClassifier(random_state=42))])"
      ]
     },
     "execution_count": 20,
     "metadata": {},
     "output_type": "execute_result"
    }
   ],
   "source": [
    "# Fit pipeline to training data\n",
    "gb_pipeline.fit(X_train, y_train)"
   ]
  },
  {
   "cell_type": "code",
   "execution_count": 21,
   "id": "81329a2f",
   "metadata": {},
   "outputs": [],
   "source": [
    "# Make predictions on test data\n",
    "gb_pred = gb_pipeline.predict(X_test)"
   ]
  },
  {
   "cell_type": "code",
   "execution_count": 22,
   "id": "9f153d30",
   "metadata": {},
   "outputs": [],
   "source": [
    "# Evaluate model performance\n",
    "gb_acc = accuracy_score(y_test, gb_pred)"
   ]
  },
  {
   "cell_type": "code",
   "execution_count": 23,
   "id": "45460af9",
   "metadata": {},
   "outputs": [
    {
     "name": "stdout",
     "output_type": "stream",
     "text": [
      "Gradient Boosting Classifier Accuracy: 0.663799783046645\n",
      "              precision    recall  f1-score   support\n",
      "\n",
      "      hiphop       0.84      0.78      0.81      4263\n",
      "         pop       0.57      0.58      0.58      4230\n",
      "        rock       0.60      0.62      0.61      4413\n",
      "\n",
      "    accuracy                           0.66     12906\n",
      "   macro avg       0.67      0.66      0.67     12906\n",
      "weighted avg       0.67      0.66      0.67     12906\n",
      "\n"
     ]
    }
   ],
   "source": [
    "print(\"Gradient Boosting Classifier Accuracy:\", gb_acc)\n",
    "print(classification_report(y_test, gb_pred))"
   ]
  },
  {
   "cell_type": "code",
   "execution_count": 27,
   "id": "94309bfc",
   "metadata": {},
   "outputs": [],
   "source": [
    "# Define pipeline with Logistic Regression\n",
    "lr_pipeline = Pipeline([\n",
    "    ('clf', LogisticRegression(random_state=42, max_iter=1000))\n",
    "])"
   ]
  },
  {
   "cell_type": "code",
   "execution_count": 28,
   "id": "b4762078",
   "metadata": {},
   "outputs": [
    {
     "data": {
      "text/plain": [
       "Pipeline(steps=[('clf', LogisticRegression(max_iter=1000, random_state=42))])"
      ]
     },
     "execution_count": 28,
     "metadata": {},
     "output_type": "execute_result"
    }
   ],
   "source": [
    "# Fit pipeline to training data\n",
    "lr_pipeline.fit(X_train, y_train)"
   ]
  },
  {
   "cell_type": "code",
   "execution_count": 29,
   "id": "45eb1532",
   "metadata": {},
   "outputs": [],
   "source": [
    "# Make predictions on test data\n",
    "lr_pred = lr_pipeline.predict(X_test)"
   ]
  },
  {
   "cell_type": "code",
   "execution_count": 30,
   "id": "cd402a09",
   "metadata": {},
   "outputs": [],
   "source": [
    "# Evaluate model performance\n",
    "lr_acc = accuracy_score(y_test, lr_pred)"
   ]
  },
  {
   "cell_type": "code",
   "execution_count": 31,
   "id": "0a63f079",
   "metadata": {},
   "outputs": [
    {
     "name": "stdout",
     "output_type": "stream",
     "text": [
      "Logistic Regression Accuracy: 0.6518673485200682\n",
      "              precision    recall  f1-score   support\n",
      "\n",
      "      hiphop       0.80      0.79      0.80      4263\n",
      "         pop       0.57      0.54      0.55      4230\n",
      "        rock       0.59      0.63      0.61      4413\n",
      "\n",
      "    accuracy                           0.65     12906\n",
      "   macro avg       0.65      0.65      0.65     12906\n",
      "weighted avg       0.65      0.65      0.65     12906\n",
      "\n"
     ]
    }
   ],
   "source": [
    "print(\"Logistic Regression Accuracy:\", lr_acc)\n",
    "print(classification_report(y_test, lr_pred))"
   ]
  },
  {
   "cell_type": "code",
   "execution_count": 34,
   "id": "8c225ddf",
   "metadata": {},
   "outputs": [],
   "source": [
    "# Define pipeline with Naive Bayes\n",
    "nb_pipeline = Pipeline([\n",
    "    ('clf', GaussianNB())\n",
    "])"
   ]
  },
  {
   "cell_type": "code",
   "execution_count": 35,
   "id": "433cca12",
   "metadata": {},
   "outputs": [
    {
     "data": {
      "text/plain": [
       "Pipeline(steps=[('clf', GaussianNB())])"
      ]
     },
     "execution_count": 35,
     "metadata": {},
     "output_type": "execute_result"
    }
   ],
   "source": [
    "# Fit pipeline to training data\n",
    "nb_pipeline.fit(X_train, y_train)"
   ]
  },
  {
   "cell_type": "code",
   "execution_count": 36,
   "id": "d4a3c300",
   "metadata": {},
   "outputs": [],
   "source": [
    "# Make predictions on test data\n",
    "nb_pred = nb_pipeline.predict(X_test)"
   ]
  },
  {
   "cell_type": "code",
   "execution_count": 37,
   "id": "9a7e4207",
   "metadata": {},
   "outputs": [],
   "source": [
    "# Evaluate model performance\n",
    "nb_acc = accuracy_score(y_test, nb_pred)"
   ]
  },
  {
   "cell_type": "code",
   "execution_count": 38,
   "id": "fbf5b714",
   "metadata": {},
   "outputs": [
    {
     "name": "stdout",
     "output_type": "stream",
     "text": [
      "Naive Bayes Accuracy: 0.6141329614132961\n",
      "              precision    recall  f1-score   support\n",
      "\n",
      "      hiphop       0.73      0.79      0.76      4263\n",
      "         pop       0.54      0.55      0.54      4230\n",
      "        rock       0.56      0.51      0.53      4413\n",
      "\n",
      "    accuracy                           0.61     12906\n",
      "   macro avg       0.61      0.62      0.61     12906\n",
      "weighted avg       0.61      0.61      0.61     12906\n",
      "\n"
     ]
    }
   ],
   "source": [
    "print(\"Naive Bayes Accuracy:\", nb_acc)\n",
    "print(classification_report(y_test, nb_pred))"
   ]
  },
  {
   "cell_type": "code",
   "execution_count": 40,
   "id": "59d33906",
   "metadata": {},
   "outputs": [],
   "source": [
    "# Define pipeline with SVM\n",
    "svm_pipeline = Pipeline([\n",
    "    ('clf', SVC(kernel='linear', C=1, random_state=42))\n",
    "])"
   ]
  },
  {
   "cell_type": "code",
   "execution_count": 41,
   "id": "65ba8f84",
   "metadata": {},
   "outputs": [
    {
     "data": {
      "text/plain": [
       "Pipeline(steps=[('clf', SVC(C=1, kernel='linear', random_state=42))])"
      ]
     },
     "execution_count": 41,
     "metadata": {},
     "output_type": "execute_result"
    }
   ],
   "source": [
    "# Fit pipeline to training data\n",
    "svm_pipeline.fit(X_train, y_train)"
   ]
  },
  {
   "cell_type": "code",
   "execution_count": 42,
   "id": "8474fc73",
   "metadata": {},
   "outputs": [],
   "source": [
    "# Make predictions on test data\n",
    "svm_pred = svm_pipeline.predict(X_test)"
   ]
  },
  {
   "cell_type": "code",
   "execution_count": 43,
   "id": "cf507c59",
   "metadata": {},
   "outputs": [],
   "source": [
    "# Evaluate model performance\n",
    "svm_acc = accuracy_score(y_test, svm_pred)\n"
   ]
  },
  {
   "cell_type": "code",
   "execution_count": 44,
   "id": "64cd1cf2",
   "metadata": {},
   "outputs": [
    {
     "name": "stdout",
     "output_type": "stream",
     "text": [
      "SVM Accuracy: 0.6525646985898031\n",
      "              precision    recall  f1-score   support\n",
      "\n",
      "      hiphop       0.81      0.77      0.79      4263\n",
      "         pop       0.57      0.53      0.55      4230\n",
      "        rock       0.59      0.65      0.62      4413\n",
      "\n",
      "    accuracy                           0.65     12906\n",
      "   macro avg       0.66      0.65      0.65     12906\n",
      "weighted avg       0.66      0.65      0.65     12906\n",
      "\n"
     ]
    }
   ],
   "source": [
    "print(\"SVM Accuracy:\", svm_acc)\n",
    "print(classification_report(y_test, svm_pred))"
   ]
  },
  {
   "cell_type": "code",
   "execution_count": 61,
   "id": "2996af01",
   "metadata": {},
   "outputs": [],
   "source": [
    "# Define pipeline with KNN\n",
    "knn_pipeline = Pipeline([\n",
    "    ('clf', KNeighborsClassifier(n_neighbors=5))\n",
    "])"
   ]
  },
  {
   "cell_type": "code",
   "execution_count": 62,
   "id": "6870296d",
   "metadata": {},
   "outputs": [
    {
     "data": {
      "text/plain": [
       "Pipeline(steps=[('clf', KNeighborsClassifier())])"
      ]
     },
     "execution_count": 62,
     "metadata": {},
     "output_type": "execute_result"
    }
   ],
   "source": [
    "# Fit pipeline to training data\n",
    "knn_pipeline.fit(X_train, y_train)"
   ]
  },
  {
   "cell_type": "code",
   "execution_count": 63,
   "id": "38dc362a",
   "metadata": {},
   "outputs": [],
   "source": [
    "# Make predictions on test data\n",
    "knn_pred = knn_pipeline.predict(X_test)"
   ]
  },
  {
   "cell_type": "code",
   "execution_count": 64,
   "id": "9dc4f0b8",
   "metadata": {},
   "outputs": [],
   "source": [
    "# Evaluate model performance\n",
    "knn_acc = accuracy_score(y_test, knn_pred)"
   ]
  },
  {
   "cell_type": "code",
   "execution_count": 65,
   "id": "081b06c8",
   "metadata": {},
   "outputs": [
    {
     "name": "stdout",
     "output_type": "stream",
     "text": [
      "KNN Accuracy: 0.568727723539439\n",
      "              precision    recall  f1-score   support\n",
      "\n",
      "      hiphop       0.56      0.90      0.69      4263\n",
      "         pop       0.57      0.50      0.54      4230\n",
      "        rock       0.60      0.31      0.41      4413\n",
      "\n",
      "    accuracy                           0.57     12906\n",
      "   macro avg       0.58      0.57      0.54     12906\n",
      "weighted avg       0.58      0.57      0.54     12906\n",
      "\n"
     ]
    }
   ],
   "source": [
    "print(\"KNN Accuracy:\", knn_acc)\n",
    "print(classification_report(y_test, knn_pred))"
   ]
  },
  {
   "cell_type": "code",
   "execution_count": 67,
   "id": "aa3da73e",
   "metadata": {},
   "outputs": [],
   "source": [
    "# Define pipeline with MLP\n",
    "mlp_pipeline = Pipeline([\n",
    "    ('clf', MLPClassifier(hidden_layer_sizes=(100,), activation='relu', solver='adam', random_state=42))\n",
    "])"
   ]
  },
  {
   "cell_type": "code",
   "execution_count": 68,
   "id": "6c03ef4d",
   "metadata": {},
   "outputs": [
    {
     "name": "stderr",
     "output_type": "stream",
     "text": [
      "C:\\Users\\Karthiek Duggirala\\anaconda3\\lib\\site-packages\\sklearn\\neural_network\\_multilayer_perceptron.py:692: ConvergenceWarning: Stochastic Optimizer: Maximum iterations (200) reached and the optimization hasn't converged yet.\n",
      "  warnings.warn(\n"
     ]
    },
    {
     "data": {
      "text/plain": [
       "Pipeline(steps=[('clf', MLPClassifier(random_state=42))])"
      ]
     },
     "execution_count": 68,
     "metadata": {},
     "output_type": "execute_result"
    }
   ],
   "source": [
    "# Fit pipeline to training data\n",
    "mlp_pipeline.fit(X_train, y_train)"
   ]
  },
  {
   "cell_type": "code",
   "execution_count": 69,
   "id": "3cb4ce96",
   "metadata": {},
   "outputs": [],
   "source": [
    "# Make predictions on test data\n",
    "mlp_pred = mlp_pipeline.predict(X_test)"
   ]
  },
  {
   "cell_type": "code",
   "execution_count": 70,
   "id": "ec9473f1",
   "metadata": {},
   "outputs": [],
   "source": [
    "# Evaluate model performance\n",
    "mlp_acc = accuracy_score(y_test, mlp_pred)"
   ]
  },
  {
   "cell_type": "code",
   "execution_count": 71,
   "id": "d69355b8",
   "metadata": {},
   "outputs": [
    {
     "name": "stdout",
     "output_type": "stream",
     "text": [
      "MLP Accuracy: 0.6770494343716101\n",
      "              precision    recall  f1-score   support\n",
      "\n",
      "      hiphop       0.87      0.80      0.83      4263\n",
      "         pop       0.58      0.59      0.58      4230\n",
      "        rock       0.61      0.64      0.62      4413\n",
      "\n",
      "    accuracy                           0.68     12906\n",
      "   macro avg       0.68      0.68      0.68     12906\n",
      "weighted avg       0.68      0.68      0.68     12906\n",
      "\n"
     ]
    }
   ],
   "source": [
    "print(\"MLP Accuracy:\", mlp_acc)\n",
    "print(classification_report(y_test, mlp_pred))"
   ]
  },
  {
   "cell_type": "code",
   "execution_count": null,
   "id": "9e240ebd",
   "metadata": {},
   "outputs": [],
   "source": []
  }
 ],
 "metadata": {
  "kernelspec": {
   "display_name": "Python 3 (ipykernel)",
   "language": "python",
   "name": "python3"
  },
  "language_info": {
   "codemirror_mode": {
    "name": "ipython",
    "version": 3
   },
   "file_extension": ".py",
   "mimetype": "text/x-python",
   "name": "python",
   "nbconvert_exporter": "python",
   "pygments_lexer": "ipython3",
   "version": "3.9.12"
  }
 },
 "nbformat": 4,
 "nbformat_minor": 5
}
