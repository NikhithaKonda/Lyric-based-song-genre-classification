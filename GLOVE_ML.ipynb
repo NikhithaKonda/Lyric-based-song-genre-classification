{
 "cells": [
  {
   "cell_type": "code",
   "execution_count": 24,
   "id": "7d53d828",
   "metadata": {},
   "outputs": [],
   "source": [
    "import pandas as pd\n",
    "import numpy as np\n",
    "from sklearn.model_selection import train_test_split\n",
    "from sklearn.ensemble import RandomForestClassifier, GradientBoostingClassifier\n",
    "from sklearn.pipeline import Pipeline\n",
    "from sklearn.metrics import accuracy_score, classification_report\n",
    "from sklearn.linear_model import LogisticRegression\n",
    "from sklearn.naive_bayes import GaussianNB\n",
    "from sklearn.svm import SVC\n",
    "from sklearn.neighbors import KNeighborsClassifier\n",
    "from sklearn.neural_network import MLPClassifier"
   ]
  },
  {
   "cell_type": "code",
   "execution_count": 31,
   "id": "b15f185a",
   "metadata": {},
   "outputs": [
    {
     "data": {
      "text/plain": [
       "'C:\\\\Users\\\\Karthiek Duggirala'"
      ]
     },
     "execution_count": 31,
     "metadata": {},
     "output_type": "execute_result"
    }
   ],
   "source": [
    "pwd"
   ]
  },
  {
   "cell_type": "code",
   "execution_count": 3,
   "id": "f091603f",
   "metadata": {},
   "outputs": [],
   "source": [
    "glove_file = 'C:/Users/Karthiek Duggirala/Downloads/glove.6B/glove.6B.100d.txt'"
   ]
  },
  {
   "cell_type": "code",
   "execution_count": 4,
   "id": "ea3cd760",
   "metadata": {},
   "outputs": [],
   "source": [
    "# Load pre-trained word embeddings into memory\n",
    "def load_embeddings(filename):\n",
    "    embeddings = {}\n",
    "    with open(filename, 'r', encoding='utf8') as f:\n",
    "        for line in f:\n",
    "            values = line.split()\n",
    "            word = values[0]\n",
    "            vector = np.asarray(values[1:], dtype='float32')\n",
    "            embeddings[word] = vector\n",
    "    return embeddings"
   ]
  },
  {
   "cell_type": "code",
   "execution_count": 5,
   "id": "948f0ad1",
   "metadata": {},
   "outputs": [],
   "source": [
    "# Define a custom vectorizer to use the pre-trained word embeddings\n",
    "class GloveVectorizer:\n",
    "    def __init__(self, glove):\n",
    "        self.glove = glove\n",
    "        self.word2idx = {word: idx for idx, word in enumerate(glove.keys())}\n",
    "        self.dim = len(next(iter(glove.values())))\n",
    "        \n",
    "    def fit(self, X, y):\n",
    "        return self\n",
    "    \n",
    "    def transform(self, X):\n",
    "        X = X.apply(lambda x: [self.glove.get(word, np.zeros(self.dim)) for word in x.split()])\n",
    "        X = X.apply(lambda x: np.mean(x, axis=0))\n",
    "        return np.stack(X.values)"
   ]
  },
  {
   "cell_type": "code",
   "execution_count": 6,
   "id": "aeae651e",
   "metadata": {},
   "outputs": [],
   "source": [
    "# Load data and split into training and test sets\n",
    "df = pd.read_csv('C:\\\\Users\\\\Karthiek Duggirala\\\\Downloads\\\\preprocessed_data.csv')"
   ]
  },
  {
   "cell_type": "code",
   "execution_count": 7,
   "id": "e74e7202",
   "metadata": {},
   "outputs": [],
   "source": [
    "X_train, X_test, y_train, y_test = train_test_split(df['lyrics'], df['genre'], test_size=0.2, stratify = df['genre'],random_state=42)"
   ]
  },
  {
   "cell_type": "code",
   "execution_count": 8,
   "id": "c9b16c5d",
   "metadata": {},
   "outputs": [],
   "source": [
    "# Load pre-trained word embeddings and build a custom vectorizer\n",
    "glove = load_embeddings(glove_file)\n",
    "vectorizer = GloveVectorizer(glove)"
   ]
  },
  {
   "cell_type": "code",
   "execution_count": 9,
   "id": "e0376407",
   "metadata": {},
   "outputs": [],
   "source": [
    "# Build a pipeline with the custom vectorizer and a random forest classifier\n",
    "rf_pipeline = Pipeline([\n",
    "    ('vect', vectorizer),\n",
    "    ('clf', RandomForestClassifier(random_state=42))\n",
    "])"
   ]
  },
  {
   "cell_type": "code",
   "execution_count": 10,
   "id": "ced7a0f9",
   "metadata": {},
   "outputs": [
    {
     "data": {
      "text/plain": [
       "Pipeline(steps=[('vect',\n",
       "                 <__main__.GloveVectorizer object at 0x0000022B5EC43EE0>),\n",
       "                ('clf', RandomForestClassifier(random_state=42))])"
      ]
     },
     "execution_count": 10,
     "metadata": {},
     "output_type": "execute_result"
    }
   ],
   "source": [
    "# Fit the pipeline on the training data and evaluate on the test data\n",
    "rf_pipeline.fit(X_train, y_train)"
   ]
  },
  {
   "cell_type": "code",
   "execution_count": 11,
   "id": "17fb372e",
   "metadata": {},
   "outputs": [],
   "source": [
    "rf_pred = rf_pipeline.predict(X_test)"
   ]
  },
  {
   "cell_type": "code",
   "execution_count": 12,
   "id": "769a54cd",
   "metadata": {},
   "outputs": [],
   "source": [
    "rf_acc = accuracy_score(y_test, rf_pred)"
   ]
  },
  {
   "cell_type": "code",
   "execution_count": 13,
   "id": "2eee105c",
   "metadata": {},
   "outputs": [
    {
     "name": "stdout",
     "output_type": "stream",
     "text": [
      "Random Forest Classifier Accuracy: 0.67100573376724\n",
      "              precision    recall  f1-score   support\n",
      "\n",
      "      hiphop       0.88      0.79      0.83      4256\n",
      "         pop       0.58      0.59      0.59      4293\n",
      "        rock       0.59      0.63      0.61      4357\n",
      "\n",
      "    accuracy                           0.67     12906\n",
      "   macro avg       0.68      0.67      0.68     12906\n",
      "weighted avg       0.68      0.67      0.67     12906\n",
      "\n"
     ]
    }
   ],
   "source": [
    "print(\"Random Forest Classifier Accuracy:\", rf_acc)\n",
    "print(classification_report(y_test, rf_pred))"
   ]
  },
  {
   "cell_type": "code",
   "execution_count": 15,
   "id": "4b598b1e",
   "metadata": {},
   "outputs": [],
   "source": [
    "gb_pipeline = Pipeline([\n",
    "    ('vect', vectorizer),\n",
    "    ('clf', GradientBoostingClassifier(random_state=42))\n",
    "])"
   ]
  },
  {
   "cell_type": "code",
   "execution_count": 16,
   "id": "7d347482",
   "metadata": {},
   "outputs": [
    {
     "data": {
      "text/plain": [
       "Pipeline(steps=[('vect',\n",
       "                 <__main__.GloveVectorizer object at 0x0000022B5EC43EE0>),\n",
       "                ('clf', GradientBoostingClassifier(random_state=42))])"
      ]
     },
     "execution_count": 16,
     "metadata": {},
     "output_type": "execute_result"
    }
   ],
   "source": [
    "gb_pipeline.fit(X_train, y_train)"
   ]
  },
  {
   "cell_type": "code",
   "execution_count": 17,
   "id": "12ffd8a9",
   "metadata": {},
   "outputs": [],
   "source": [
    "gb_pred = gb_pipeline.predict(X_test)"
   ]
  },
  {
   "cell_type": "code",
   "execution_count": 18,
   "id": "1e26f7a9",
   "metadata": {},
   "outputs": [],
   "source": [
    "gb_acc = accuracy_score(y_test, gb_pred)"
   ]
  },
  {
   "cell_type": "code",
   "execution_count": 19,
   "id": "a73b0839",
   "metadata": {},
   "outputs": [
    {
     "name": "stdout",
     "output_type": "stream",
     "text": [
      "Gradient Boosting Classifier Accuracy: 0.6473733147373315\n",
      "              precision    recall  f1-score   support\n",
      "\n",
      "      hiphop       0.83      0.79      0.81      4256\n",
      "         pop       0.55      0.58      0.56      4293\n",
      "        rock       0.58      0.58      0.58      4357\n",
      "\n",
      "    accuracy                           0.65     12906\n",
      "   macro avg       0.65      0.65      0.65     12906\n",
      "weighted avg       0.65      0.65      0.65     12906\n",
      "\n"
     ]
    }
   ],
   "source": [
    "print(\"Gradient Boosting Classifier Accuracy:\", gb_acc)\n",
    "print(classification_report(y_test, gb_pred))"
   ]
  },
  {
   "cell_type": "code",
   "execution_count": 26,
   "id": "941e146c",
   "metadata": {},
   "outputs": [],
   "source": [
    "# Define a pipeline that vectorizes the text using GloVe and uses logistic regression for classification\n",
    "lr_pipeline = Pipeline([\n",
    "    ('vect', vectorizer),\n",
    "    ('clf', LogisticRegression(random_state=42,max_iter=1000))\n",
    "])"
   ]
  },
  {
   "cell_type": "code",
   "execution_count": 27,
   "id": "ee41e306",
   "metadata": {},
   "outputs": [
    {
     "data": {
      "text/plain": [
       "Pipeline(steps=[('vect',\n",
       "                 <__main__.GloveVectorizer object at 0x0000022B5EC43EE0>),\n",
       "                ('clf', LogisticRegression(max_iter=1000, random_state=42))])"
      ]
     },
     "execution_count": 27,
     "metadata": {},
     "output_type": "execute_result"
    }
   ],
   "source": [
    "# Fit the pipeline to the training data\n",
    "lr_pipeline.fit(X_train, y_train)"
   ]
  },
  {
   "cell_type": "code",
   "execution_count": 28,
   "id": "ab15a933",
   "metadata": {},
   "outputs": [],
   "source": [
    "# Use the pipeline to predict the genres for the test data\n",
    "lr_pred = lr_pipeline.predict(X_test)"
   ]
  },
  {
   "cell_type": "code",
   "execution_count": 29,
   "id": "221f721b",
   "metadata": {},
   "outputs": [],
   "source": [
    "# Compute the accuracy of the predictions\n",
    "lr_acc = accuracy_score(y_test, lr_pred)"
   ]
  },
  {
   "cell_type": "code",
   "execution_count": 30,
   "id": "741be8fe",
   "metadata": {},
   "outputs": [
    {
     "name": "stdout",
     "output_type": "stream",
     "text": [
      "Logistic Regression Classifier Accuracy: 0.6242057957539129\n",
      "              precision    recall  f1-score   support\n",
      "\n",
      "      hiphop       0.74      0.79      0.76      4256\n",
      "         pop       0.55      0.54      0.55      4293\n",
      "        rock       0.57      0.55      0.56      4357\n",
      "\n",
      "    accuracy                           0.62     12906\n",
      "   macro avg       0.62      0.63      0.62     12906\n",
      "weighted avg       0.62      0.62      0.62     12906\n",
      "\n"
     ]
    }
   ],
   "source": [
    "# Print the accuracy and classification report\n",
    "print(\"Logistic Regression Classifier Accuracy:\", lr_acc)\n",
    "print(classification_report(y_test, lr_pred))"
   ]
  },
  {
   "cell_type": "code",
   "execution_count": 36,
   "id": "9d6dd10f",
   "metadata": {},
   "outputs": [],
   "source": [
    "# Build a pipeline with the custom vectorizer and a Gaussian Naive Bayes classifier\n",
    "nb_pipeline = Pipeline([\n",
    "    ('vect', vectorizer),\n",
    "    ('clf', GaussianNB())\n",
    "])"
   ]
  },
  {
   "cell_type": "code",
   "execution_count": 37,
   "id": "b0641dcc",
   "metadata": {},
   "outputs": [
    {
     "data": {
      "text/plain": [
       "Pipeline(steps=[('vect',\n",
       "                 <__main__.GloveVectorizer object at 0x0000022B5EC43EE0>),\n",
       "                ('clf', GaussianNB())])"
      ]
     },
     "execution_count": 37,
     "metadata": {},
     "output_type": "execute_result"
    }
   ],
   "source": [
    "\n",
    "# Fit the pipeline on the training data and evaluate on the test data\n",
    "nb_pipeline.fit(X_train, y_train)\n"
   ]
  },
  {
   "cell_type": "code",
   "execution_count": 38,
   "id": "7029bb89",
   "metadata": {},
   "outputs": [],
   "source": [
    "nb_pred = nb_pipeline.predict(X_test)"
   ]
  },
  {
   "cell_type": "code",
   "execution_count": 39,
   "id": "2fcbe1d5",
   "metadata": {},
   "outputs": [],
   "source": [
    "nb_acc = accuracy_score(y_test, nb_pred)"
   ]
  },
  {
   "cell_type": "code",
   "execution_count": 41,
   "id": "c06769fa",
   "metadata": {},
   "outputs": [
    {
     "name": "stdout",
     "output_type": "stream",
     "text": [
      "Gaussian Naive Bayes Classifier Accuracy: 0.6032078103207811\n",
      "              precision    recall  f1-score   support\n",
      "\n",
      "      hiphop       0.73      0.79      0.76      4256\n",
      "         pop       0.52      0.54      0.53      4293\n",
      "        rock       0.54      0.48      0.51      4357\n",
      "\n",
      "    accuracy                           0.60     12906\n",
      "   macro avg       0.60      0.60      0.60     12906\n",
      "weighted avg       0.60      0.60      0.60     12906\n",
      "\n"
     ]
    }
   ],
   "source": [
    "print(\"Gaussian Naive Bayes Classifier Accuracy:\", nb_acc)\n",
    "print(classification_report(y_test, nb_pred))"
   ]
  },
  {
   "cell_type": "code",
   "execution_count": 9,
   "id": "40727541",
   "metadata": {},
   "outputs": [],
   "source": [
    "# Build a pipeline with the custom vectorizer and an SVM classifier\n",
    "svm_pipeline = Pipeline([\n",
    "    ('vect', vectorizer),\n",
    "    ('clf', SVC(random_state=42))\n",
    "])"
   ]
  },
  {
   "cell_type": "code",
   "execution_count": 10,
   "id": "e2d723bc",
   "metadata": {},
   "outputs": [
    {
     "name": "stdout",
     "output_type": "stream",
     "text": [
      "Pipeline(steps=[('vect',\n",
      "                 <__main__.GloveVectorizer object at 0x00000279FD77EEE0>),\n",
      "                ('clf', SVC(random_state=42))])\n"
     ]
    }
   ],
   "source": [
    "# Fit the pipeline on the training data and evaluate on the test data\n",
    "svm_pipeline.fit(X_train, y_train)"
   ]
  },
  {
   "cell_type": "code",
   "execution_count": 12,
   "id": "4da79bae",
   "metadata": {},
   "outputs": [],
   "source": [
    "svm_pred = svm_pipeline.predict(X_test)"
   ]
  },
  {
   "cell_type": "code",
   "execution_count": 13,
   "id": "a9df1072",
   "metadata": {},
   "outputs": [],
   "source": [
    "svm_acc = accuracy_score(y_test, svm_pred)"
   ]
  },
  {
   "cell_type": "code",
   "execution_count": 14,
   "id": "abbb8afc",
   "metadata": {},
   "outputs": [
    {
     "name": "stdout",
     "output_type": "stream",
     "text": [
      "SVM Classifier Accuracy : 0.6173674789542442\n",
      "              precision    recall  f1-score   support\n",
      "\n",
      "      hiphop       0.81      0.78      0.84      4263\n",
      "         pop       0.58      0.54      0.51      4230\n",
      "        rock       0.59      0.55      0.52      4431\n",
      "\n",
      "    accuracy                           0.65     12906\n",
      "   macro avg       0.71      0.68      0.65     12906\n",
      "weighted avg       0.74      0.69      0.65     12906\n"
     ]
    }
   ],
   "source": [
    "print(\"SVM Classifier Accuracy:\", svm_acc)\n",
    "print(classification_report(y_test, svm_pred))"
   ]
  },
  {
   "cell_type": "code",
   "execution_count": 16,
   "id": "985fd0da",
   "metadata": {},
   "outputs": [],
   "source": [
    "# Build a pipeline with the custom vectorizer and a KNN classifier\n",
    "knn_pipeline = Pipeline([\n",
    "    ('vect', vectorizer),\n",
    "    ('clf', KNeighborsClassifier(n_neighbors=5))\n",
    "])"
   ]
  },
  {
   "cell_type": "code",
   "execution_count": 17,
   "id": "be597492",
   "metadata": {},
   "outputs": [
    {
     "name": "stdout",
     "output_type": "stream",
     "text": [
      "Pipeline(steps=[('vect',\n",
      "                 <__main__.GloveVectorizer object at 0x00000279FD77EEE0>),\n",
      "                ('clf', KNeighborsClassifier())])\n"
     ]
    }
   ],
   "source": [
    "# Fit the pipeline on the training data and evaluate on the test data\n",
    "knn_pipeline.fit(X_train, y_train)"
   ]
  },
  {
   "cell_type": "code",
   "execution_count": 20,
   "id": "5a9be4a0",
   "metadata": {},
   "outputs": [],
   "source": [
    "knn_pred = knn_pipeline.predict(X_test)"
   ]
  },
  {
   "cell_type": "code",
   "execution_count": 21,
   "id": "48479a46",
   "metadata": {},
   "outputs": [],
   "source": [
    "knn_acc = accuracy_score(y_test, knn_pred)"
   ]
  },
  {
   "cell_type": "code",
   "execution_count": 22,
   "id": "4ea9ceca",
   "metadata": {},
   "outputs": [
    {
     "name": "stdout",
     "output_type": "stream",
     "text": [
      "KNN Classifier Accuracy : 0.5458621283948262\n",
      "              precision    recall  f1-score   support\n",
      "\n",
      "      hiphop       0.54      0.85      0.65      4269\n",
      "         pop       0.53      0.45      0.56      4232\n",
      "        rock       0.58      0.39      0.42      4414\n",
      "\n",
      "    accuracy                           0.57     12906\n",
      "   macro avg       0.56      0.56      0.54     12906\n",
      "weighted avg       0.58      0.54      0.54     12906\n"
     ]
    }
   ],
   "source": [
    "print(\"KNN Classifier Accuracy:\", knn_acc)\n",
    "print(classification_report(y_test, knn_pred))"
   ]
  },
  {
   "cell_type": "code",
   "execution_count": 25,
   "id": "143d88c0",
   "metadata": {},
   "outputs": [],
   "source": [
    "# Build a pipeline with the custom vectorizer and an MLP classifier\n",
    "mlp_pipeline = Pipeline([\n",
    "    ('vect', vectorizer),\n",
    "    ('clf', MLPClassifier(hidden_layer_sizes=(100, 50), max_iter=1000, random_state=42))\n",
    "])\n"
   ]
  },
  {
   "cell_type": "code",
   "execution_count": 27,
   "id": "37e24277",
   "metadata": {},
   "outputs": [
    {
     "name": "stdout",
     "output_type": "stream",
     "text": [
      "Pipeline(steps=[('vect',\n",
      "                 <__main__.GloveVectorizer object at 0x00000279FD77EEE0>),\n",
      "                ('clf',\n",
      "                 MLPClassifier(hidden_layer_sizes=(100, 50), max_iter=1000,\n",
      "                               random_state=42))])\n"
     ]
    }
   ],
   "source": [
    "# Fit the pipeline on the training data and evaluate on the test data\n",
    "mlp_pipeline.fit(X_train, y_train)"
   ]
  },
  {
   "cell_type": "code",
   "execution_count": 28,
   "id": "63352377",
   "metadata": {},
   "outputs": [],
   "source": [
    "mlp_pred = mlp_pipeline.predict(X_test)"
   ]
  },
  {
   "cell_type": "code",
   "execution_count": 29,
   "id": "926f27d6",
   "metadata": {},
   "outputs": [],
   "source": [
    "mlp_acc = accuracy_score(y_test, mlp_pred)"
   ]
  },
  {
   "cell_type": "code",
   "execution_count": 30,
   "id": "67dd509b",
   "metadata": {},
   "outputs": [
    {
     "name": "stdout",
     "output_type": "stream",
     "text": [
      "MLP Classifier Accuracy : 0.6698621283948262\n",
      "              precision    recall  f1-score   support\n",
      "\n",
      "      hiphop       0.85      0.78      0.81      4261\n",
      "         pop       0.56      0.57      0.54      4228\n",
      "        rock       0.64      0.58      0.60      4418\n",
      "\n",
      "    accuracy                           0.66     12906\n",
      "   macro avg       0.66      0.66      0.66     12906\n",
      "weighted avg       0.66      0.66      0.66     12906\n"
     ]
    }
   ],
   "source": [
    "print(\"MLP Classifier Accuracy:\", mlp_acc)\n",
    "print(classification_report(y_test, mlp_pred))"
   ]
  },
  {
   "cell_type": "code",
   "execution_count": null,
   "id": "93406ee2",
   "metadata": {},
   "outputs": [],
   "source": []
  }
 ],
 "metadata": {
  "kernelspec": {
   "display_name": "Python 3 (ipykernel)",
   "language": "python",
   "name": "python3"
  },
  "language_info": {
   "codemirror_mode": {
    "name": "ipython",
    "version": 3
   },
   "file_extension": ".py",
   "mimetype": "text/x-python",
   "name": "python",
   "nbconvert_exporter": "python",
   "pygments_lexer": "ipython3",
   "version": "3.9.12"
  }
 },
 "nbformat": 4,
 "nbformat_minor": 5
}
