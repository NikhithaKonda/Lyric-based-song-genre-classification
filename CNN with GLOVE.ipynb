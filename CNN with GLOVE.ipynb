{
 "cells": [
  {
   "cell_type": "code",
   "execution_count": 2,
   "id": "76a0d9ee",
   "metadata": {},
   "outputs": [],
   "source": [
    "import numpy as np\n",
    "import pandas as pd\n",
    "from sklearn.model_selection import train_test_split\n",
    "from sklearn.preprocessing import LabelEncoder\n",
    "from keras.preprocessing.text import Tokenizer\n",
    "from tensorflow.keras.preprocessing.sequence import pad_sequences\n",
    "from keras.models import Sequential\n",
    "from keras.layers import Embedding, Conv1D, GlobalMaxPooling1D, Dense, Dropout"
   ]
  },
  {
   "cell_type": "code",
   "execution_count": 1,
   "id": "43535cf7",
   "metadata": {},
   "outputs": [
    {
     "data": {
      "text/plain": [
       "'C:\\\\Users\\\\Karthiek Duggirala'"
      ]
     },
     "execution_count": 1,
     "metadata": {},
     "output_type": "execute_result"
    }
   ],
   "source": [
    "pwd"
   ]
  },
  {
   "cell_type": "code",
   "execution_count": 3,
   "id": "efb9d16d",
   "metadata": {},
   "outputs": [],
   "source": [
    "df = pd.read_csv('C:\\\\Users\\\\Karthiek Duggirala\\\\Downloads\\\\preprocessed_data.csv')"
   ]
  },
  {
   "cell_type": "code",
   "execution_count": 4,
   "id": "a60d3ea1",
   "metadata": {},
   "outputs": [],
   "source": [
    "# split the data into training and test sets\n",
    "train_data, test_data = train_test_split(df, test_size=0.2, random_state=42)"
   ]
  },
  {
   "cell_type": "code",
   "execution_count": 5,
   "id": "8a5f7d90",
   "metadata": {},
   "outputs": [],
   "source": [
    "# encode the genre labels using LabelEncoder\n",
    "le = LabelEncoder()\n",
    "train_labels = le.fit_transform(train_data['genre'])\n",
    "test_labels = le.transform(test_data['genre'])"
   ]
  },
  {
   "cell_type": "code",
   "execution_count": 6,
   "id": "caf91fd1",
   "metadata": {},
   "outputs": [],
   "source": [
    "# tokenize the lyrics data\n",
    "tokenizer = Tokenizer()\n",
    "tokenizer.fit_on_texts(train_data['lyrics'])\n"
   ]
  },
  {
   "cell_type": "code",
   "execution_count": 7,
   "id": "b87d746a",
   "metadata": {},
   "outputs": [],
   "source": [
    "# convert the tokenized lyrics data to sequences\n",
    "train_sequences = tokenizer.texts_to_sequences(train_data['lyrics'])\n",
    "test_sequences = tokenizer.texts_to_sequences(test_data['lyrics'])"
   ]
  },
  {
   "cell_type": "code",
   "execution_count": 8,
   "id": "5510b887",
   "metadata": {},
   "outputs": [],
   "source": [
    "# pad the sequences to ensure uniform length\n",
    "max_len = 200\n",
    "train_data = pad_sequences(train_sequences, maxlen=max_len)\n",
    "test_data = pad_sequences(test_sequences, maxlen=max_len)"
   ]
  },
  {
   "cell_type": "code",
   "execution_count": 9,
   "id": "b17fd4c2",
   "metadata": {},
   "outputs": [],
   "source": [
    "# create word embeddings using GloVe\n",
    "embedding_dim = 100\n",
    "embedding_dict = {}\n",
    "with open(\"C:\\\\Users\\\\Karthiek Duggirala\\\\Downloads\\\\glove.6B\\\\glove.6B.100d.txt\", 'r', encoding='utf8') as f:\n",
    "    for line in f:\n",
    "        values = line.split()\n",
    "        word = values[0]\n",
    "        coefs = np.asarray(values[1:], dtype='float32')\n",
    "        embedding_dict[word] = coefs"
   ]
  },
  {
   "cell_type": "code",
   "execution_count": 10,
   "id": "ef29a65b",
   "metadata": {},
   "outputs": [],
   "source": [
    "# create the embedding matrix for the training data\n",
    "vocab_size = len(tokenizer.word_index) + 1\n",
    "embedding_matrix = np.zeros((vocab_size, embedding_dim))\n",
    "for word, i in tokenizer.word_index.items():\n",
    "    embedding_vector = embedding_dict.get(word)\n",
    "    if embedding_vector is not None:\n",
    "        embedding_matrix[i] = embedding_vector"
   ]
  },
  {
   "cell_type": "code",
   "execution_count": 24,
   "id": "e18aa563",
   "metadata": {},
   "outputs": [],
   "source": [
    "# create the CNN model\n",
    "model = Sequential()\n",
    "model.add(Embedding(vocab_size, embedding_dim, weights=[embedding_matrix], input_length=max_len, trainable=False))\n",
    "model.add(Conv1D(128, 5, activation='relu'))\n",
    "model.add(GlobalMaxPooling1D())\n",
    "model.add(Dense(64, activation='relu'))\n",
    "model.add(Dropout(0.5))\n",
    "model.add(Dense(3, activation='softmax'))"
   ]
  },
  {
   "cell_type": "code",
   "execution_count": 25,
   "id": "1b755814",
   "metadata": {},
   "outputs": [],
   "source": [
    "model.compile(loss='categorical_crossentropy', optimizer='adam', metrics=['accuracy'])"
   ]
  },
  {
   "cell_type": "code",
   "execution_count": 26,
   "id": "78b9c670",
   "metadata": {},
   "outputs": [
    {
     "name": "stdout",
     "output_type": "stream",
     "text": [
      "Epoch 1/20\n",
      "1614/1614 [==============================] - 46s 27ms/step - loss: 0.7812 - accuracy: 0.6135\n",
      "Epoch 2/20\n",
      "1614/1614 [==============================] - 44s 27ms/step - loss: 0.6979 - accuracy: 0.6700\n",
      "Epoch 3/20\n",
      "1614/1614 [==============================] - 44s 27ms/step - loss: 0.6545 - accuracy: 0.6944\n",
      "Epoch 4/20\n",
      "1614/1614 [==============================] - 44s 27ms/step - loss: 0.6105 - accuracy: 0.7176\n",
      "Epoch 5/20\n",
      "1614/1614 [==============================] - 683s 424ms/step - loss: 0.5707 - accuracy: 0.7359\n",
      "Epoch 6/20\n",
      "1614/1614 [==============================] - 45s 28ms/step - loss: 0.5248 - accuracy: 0.7601\n",
      "Epoch 7/20\n",
      "1614/1614 [==============================] - 44s 27ms/step - loss: 0.4834 - accuracy: 0.7806\n",
      "Epoch 8/20\n",
      "1614/1614 [==============================] - 44s 27ms/step - loss: 0.4467 - accuracy: 0.7962\n",
      "Epoch 9/20\n",
      "1614/1614 [==============================] - 45s 28ms/step - loss: 0.4181 - accuracy: 0.8129\n",
      "Epoch 10/20\n",
      "1614/1614 [==============================] - 45s 28ms/step - loss: 0.3851 - accuracy: 0.8313\n",
      "Epoch 11/20\n",
      "1614/1614 [==============================] - 45s 28ms/step - loss: 0.3532 - accuracy: 0.8455\n",
      "Epoch 12/20\n",
      "1614/1614 [==============================] - 47s 29ms/step - loss: 0.3329 - accuracy: 0.8546\n",
      "Epoch 13/20\n",
      "1614/1614 [==============================] - 47s 29ms/step - loss: 0.3118 - accuracy: 0.8655\n",
      "Epoch 14/20\n",
      "1614/1614 [==============================] - 45s 28ms/step - loss: 0.2905 - accuracy: 0.8757\n",
      "Epoch 15/20\n",
      "1614/1614 [==============================] - 46s 29ms/step - loss: 0.2718 - accuracy: 0.8849\n",
      "Epoch 16/20\n",
      "1614/1614 [==============================] - 47s 29ms/step - loss: 0.2600 - accuracy: 0.8894\n",
      "Epoch 17/20\n",
      "1614/1614 [==============================] - 45s 28ms/step - loss: 0.2419 - accuracy: 0.8976\n",
      "Epoch 18/20\n",
      "1614/1614 [==============================] - 46s 29ms/step - loss: 0.2277 - accuracy: 0.9057\n",
      "Epoch 19/20\n",
      "1614/1614 [==============================] - 47s 29ms/step - loss: 0.2173 - accuracy: 0.9109\n",
      "Epoch 20/20\n",
      "1614/1614 [==============================] - 46s 29ms/step - loss: 0.2043 - accuracy: 0.9186\n"
     ]
    },
    {
     "data": {
      "text/plain": [
       "<keras.callbacks.History at 0x1a9dd91e550>"
      ]
     },
     "execution_count": 26,
     "metadata": {},
     "output_type": "execute_result"
    }
   ],
   "source": [
    "# train the model\n",
    "model.fit(train_data, pd.get_dummies(train_labels).values, epochs=20, batch_size=32)"
   ]
  },
  {
   "cell_type": "code",
   "execution_count": 27,
   "id": "41c12b11",
   "metadata": {},
   "outputs": [
    {
     "name": "stdout",
     "output_type": "stream",
     "text": [
      "Accuracy: 66.387725\n"
     ]
    }
   ],
   "source": [
    "loss, accuracy = model.evaluate(test_data, pd.get_dummies(test_labels).values, verbose=0)\n",
    "print('Accuracy: %f' % (accuracy*100))"
   ]
  },
  {
   "cell_type": "code",
   "execution_count": 15,
   "id": "a2ae5c3d",
   "metadata": {},
   "outputs": [],
   "source": [
    "model.compile(loss='mean_squared_error', optimizer='adam', metrics=['mse'])"
   ]
  },
  {
   "cell_type": "code",
   "execution_count": 16,
   "id": "1a890e43",
   "metadata": {},
   "outputs": [
    {
     "name": "stdout",
     "output_type": "stream",
     "text": [
      "Epoch 1/10\n",
      "1614/1614 [==============================] - 87s 51ms/step - loss: 0.0542 - mse: 0.0542\n",
      "Epoch 2/10\n",
      "1614/1614 [==============================] - 83s 52ms/step - loss: 0.0507 - mse: 0.0507\n",
      "Epoch 3/10\n",
      "1614/1614 [==============================] - 82s 51ms/step - loss: 0.0478 - mse: 0.0478\n",
      "Epoch 4/10\n",
      "1614/1614 [==============================] - 60s 37ms/step - loss: 0.0453 - mse: 0.0453\n",
      "Epoch 5/10\n",
      "1614/1614 [==============================] - 46s 28ms/step - loss: 0.0426 - mse: 0.0426\n",
      "Epoch 6/10\n",
      "1614/1614 [==============================] - 46s 28ms/step - loss: 0.0407 - mse: 0.0407\n",
      "Epoch 7/10\n",
      "1614/1614 [==============================] - 45s 28ms/step - loss: 0.0377 - mse: 0.0377\n",
      "Epoch 8/10\n",
      "1614/1614 [==============================] - 45s 28ms/step - loss: 0.0358 - mse: 0.0358\n",
      "Epoch 9/10\n",
      "1614/1614 [==============================] - 45s 28ms/step - loss: 0.0337 - mse: 0.0337\n",
      "Epoch 10/10\n",
      "1614/1614 [==============================] - 45s 28ms/step - loss: 0.0323 - mse: 0.0323\n"
     ]
    },
    {
     "data": {
      "text/plain": [
       "<keras.callbacks.History at 0x1a9dc72d3d0>"
      ]
     },
     "execution_count": 16,
     "metadata": {},
     "output_type": "execute_result"
    }
   ],
   "source": [
    "# train the model\n",
    "model.fit(train_data, pd.get_dummies(train_labels).values, epochs=10, batch_size=32)"
   ]
  },
  {
   "cell_type": "code",
   "execution_count": 17,
   "id": "0630ae6f",
   "metadata": {},
   "outputs": [
    {
     "name": "stdout",
     "output_type": "stream",
     "text": [
      "Accuracy: 19.245926\n"
     ]
    }
   ],
   "source": [
    "loss, accuracy = model.evaluate(test_data, pd.get_dummies(test_labels).values, verbose=0)\n",
    "print('Accuracy: %f' % (accuracy*100))"
   ]
  },
  {
   "cell_type": "code",
   "execution_count": 18,
   "id": "be668153",
   "metadata": {},
   "outputs": [],
   "source": [
    "model.compile(loss='binary_crossentropy', optimizer='adam', metrics=['accuracy'])"
   ]
  },
  {
   "cell_type": "code",
   "execution_count": 19,
   "id": "06d8c5bf",
   "metadata": {},
   "outputs": [
    {
     "name": "stdout",
     "output_type": "stream",
     "text": [
      "Epoch 1/10\n",
      "1614/1614 [==============================] - 47s 28ms/step - loss: 0.1292 - accuracy: 0.9405\n",
      "Epoch 2/10\n",
      "1614/1614 [==============================] - 46s 29ms/step - loss: 0.0986 - accuracy: 0.9514\n",
      "Epoch 3/10\n",
      "1614/1614 [==============================] - 45s 28ms/step - loss: 0.0874 - accuracy: 0.9558\n",
      "Epoch 4/10\n",
      "1614/1614 [==============================] - 45s 28ms/step - loss: 0.0789 - accuracy: 0.9608\n",
      "Epoch 5/10\n",
      "1614/1614 [==============================] - 45s 28ms/step - loss: 0.0740 - accuracy: 0.9619\n",
      "Epoch 6/10\n",
      "1614/1614 [==============================] - 45s 28ms/step - loss: 0.0704 - accuracy: 0.9633\n",
      "Epoch 7/10\n",
      "1614/1614 [==============================] - 46s 28ms/step - loss: 0.0675 - accuracy: 0.9653\n",
      "Epoch 8/10\n",
      "1614/1614 [==============================] - 46s 28ms/step - loss: 0.0633 - accuracy: 0.9671\n",
      "Epoch 9/10\n",
      "1614/1614 [==============================] - 46s 28ms/step - loss: 0.0632 - accuracy: 0.9669\n",
      "Epoch 10/10\n",
      "1614/1614 [==============================] - 45s 28ms/step - loss: 0.0600 - accuracy: 0.9685\n"
     ]
    },
    {
     "data": {
      "text/plain": [
       "<keras.callbacks.History at 0x1a9dd9e2910>"
      ]
     },
     "execution_count": 19,
     "metadata": {},
     "output_type": "execute_result"
    }
   ],
   "source": [
    "# train the model\n",
    "model.fit(train_data, pd.get_dummies(train_labels).values, epochs=10, batch_size=32)"
   ]
  },
  {
   "cell_type": "code",
   "execution_count": 20,
   "id": "42eb4ead",
   "metadata": {},
   "outputs": [
    {
     "name": "stdout",
     "output_type": "stream",
     "text": [
      "Accuracy: 65.186733\n"
     ]
    }
   ],
   "source": [
    "loss, accuracy = model.evaluate(test_data, pd.get_dummies(test_labels).values, verbose=0)\n",
    "print('Accuracy: %f' % (accuracy*100))"
   ]
  },
  {
   "cell_type": "code",
   "execution_count": null,
   "id": "8399f2d6",
   "metadata": {},
   "outputs": [],
   "source": []
  }
 ],
 "metadata": {
  "kernelspec": {
   "display_name": "Python 3 (ipykernel)",
   "language": "python",
   "name": "python3"
  },
  "language_info": {
   "codemirror_mode": {
    "name": "ipython",
    "version": 3
   },
   "file_extension": ".py",
   "mimetype": "text/x-python",
   "name": "python",
   "nbconvert_exporter": "python",
   "pygments_lexer": "ipython3",
   "version": "3.9.12"
  }
 },
 "nbformat": 4,
 "nbformat_minor": 5
}
