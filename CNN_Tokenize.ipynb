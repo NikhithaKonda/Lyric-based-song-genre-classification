{
 "cells": [
  {
   "cell_type": "code",
   "execution_count": 59,
   "id": "98d3a368",
   "metadata": {},
   "outputs": [],
   "source": [
    "import pandas as pd\n",
    "import numpy as np\n",
    "import tensorflow as tf\n",
    "from tensorflow.keras.preprocessing.text import Tokenizer\n",
    "from tensorflow.keras.preprocessing.sequence import pad_sequences\n",
    "from sklearn.model_selection import train_test_split\n",
    "from sklearn.preprocessing import LabelEncoder"
   ]
  },
  {
   "cell_type": "code",
   "execution_count": 1,
   "id": "104fe510",
   "metadata": {},
   "outputs": [
    {
     "data": {
      "text/plain": [
       "'C:\\\\Users\\\\Karthiek Duggirala'"
      ]
     },
     "execution_count": 1,
     "metadata": {},
     "output_type": "execute_result"
    }
   ],
   "source": [
    "pwd"
   ]
  },
  {
   "cell_type": "code",
   "execution_count": 60,
   "id": "155dcfb9",
   "metadata": {},
   "outputs": [],
   "source": [
    "df = pd.read_csv('C:\\\\Users\\\\Karthiek Duggirala\\\\Downloads\\\\preprocessed_data.csv')"
   ]
  },
  {
   "cell_type": "code",
   "execution_count": 61,
   "id": "3fc51663",
   "metadata": {},
   "outputs": [],
   "source": [
    "# Prepare data\n",
    "max_words = 10000\n",
    "max_len = 200\n",
    "tokenizer = Tokenizer(num_words=max_words, oov_token='<OOV>')\n",
    "tokenizer.fit_on_texts(df['lyrics'])\n",
    "sequences = tokenizer.texts_to_sequences(df['lyrics'])\n",
    "padded_sequences = pad_sequences(sequences, maxlen=max_len)"
   ]
  },
  {
   "cell_type": "code",
   "execution_count": 62,
   "id": "13890df0",
   "metadata": {},
   "outputs": [],
   "source": [
    "# Prepare labels\n",
    "label_encoder = LabelEncoder()\n",
    "labels = label_encoder.fit_transform(df['genre'])"
   ]
  },
  {
   "cell_type": "code",
   "execution_count": 63,
   "id": "15592ded",
   "metadata": {},
   "outputs": [],
   "source": [
    "# Train-test split\n",
    "X_train, X_test, Y_train, Y_test = train_test_split(padded_sequences, labels, test_size=0.2, random_state=42)"
   ]
  },
  {
   "cell_type": "code",
   "execution_count": 64,
   "id": "9927a34c",
   "metadata": {},
   "outputs": [],
   "source": [
    "# pad the sequences to ensure uniform length\n",
    "max_len = 200\n",
    "train_data = pad_sequences(train_sequences, maxlen=max_len)\n",
    "test_data = pad_sequences(test_sequences, maxlen=max_len)"
   ]
  },
  {
   "cell_type": "code",
   "execution_count": 65,
   "id": "5a96c8f3",
   "metadata": {},
   "outputs": [],
   "source": [
    "# Build model\n",
    "model = tf.keras.Sequential([\n",
    "    tf.keras.layers.Embedding(input_dim=max_words, output_dim=100, input_length=max_len),\n",
    "    tf.keras.layers.Conv1D(filters=64, kernel_size=5, activation='relu'),\n",
    "    tf.keras.layers.MaxPooling1D(pool_size=4),\n",
    "    tf.keras.layers.Dropout(0.4),\n",
    "    tf.keras.layers.Flatten(),\n",
    "    tf.keras.layers.Dense(1, activation='sigmoid')\n",
    "])"
   ]
  },
  {
   "cell_type": "code",
   "execution_count": 66,
   "id": "5e33058f",
   "metadata": {},
   "outputs": [],
   "source": [
    "model.compile(loss='binary_crossentropy', optimizer='adam', metrics=['ac.curacy'])"
   ]
  },
  {
   "cell_type": "code",
   "execution_count": 67,
   "id": "5a429ca6",
   "metadata": {},
   "outputs": [
    {
     "name": "stdout",
     "output_type": "stream",
     "text": [
      "Epoch 1/10\n",
      "404/404 [==============================] - 37s 88ms/step - loss: -9839.1836 - accuracy: 0.4545 - val_loss: -42150.6094 - val_accuracy: 0.4624\n",
      "Epoch 2/10\n",
      "404/404 [==============================] - 36s 88ms/step - loss: -163694.3438 - accuracy: 0.4654 - val_loss: -353936.1250 - val_accuracy: 0.4583\n",
      "Epoch 3/10\n",
      "404/404 [==============================] - 36s 88ms/step - loss: -697386.2500 - accuracy: 0.4664 - val_loss: -1142306.2500 - val_accuracy: 0.4558\n",
      "Epoch 4/10\n",
      "404/404 [==============================] - 36s 89ms/step - loss: -1776454.1250 - accuracy: 0.4644 - val_loss: -2541122.5000 - val_accuracy: 0.4567\n",
      "Epoch 5/10\n",
      "404/404 [==============================] - 36s 89ms/step - loss: -3513293.7500 - accuracy: 0.4644 - val_loss: -4649703.0000 - val_accuracy: 0.4558\n",
      "Epoch 6/10\n",
      "404/404 [==============================] - 35s 88ms/step - loss: -5976635.5000 - accuracy: 0.4648 - val_loss: -7508696.5000 - val_accuracy: 0.4560\n",
      "Epoch 7/10\n",
      "404/404 [==============================] - 36s 89ms/step - loss: -9233923.0000 - accuracy: 0.4638 - val_loss: -11187624.0000 - val_accuracy: 0.4585\n",
      "Epoch 8/10\n",
      "404/404 [==============================] - 35s 86ms/step - loss: -13326833.0000 - accuracy: 0.4650 - val_loss: -15736442.0000 - val_accuracy: 0.4558\n",
      "Epoch 9/10\n",
      "404/404 [==============================] - 35s 87ms/step - loss: -18269910.0000 - accuracy: 0.4637 - val_loss: -21149900.0000 - val_accuracy: 0.4563\n",
      "Epoch 10/10\n",
      "404/404 [==============================] - 36s 88ms/step - loss: -24143444.0000 - accuracy: 0.4634 - val_loss: -27537746.0000 - val_accuracy: 0.4578\n"
     ]
    },
    {
     "data": {
      "text/plain": [
       "<keras.callbacks.History at 0x20d1c10bb20>"
      ]
     },
     "execution_count": 67,
     "metadata": {},
     "output_type": "execute_result"
    }
   ],
   "source": [
    "# Train model\n",
    "model.fit(X_train, Y_train, validation_data=(X_test, Y_test), epochs=10, batch_size=128)"
   ]
  },
  {
   "cell_type": "code",
   "execution_count": 68,
   "id": "a05241f8",
   "metadata": {},
   "outputs": [
    {
     "name": "stdout",
     "output_type": "stream",
     "text": [
      "Accuracy: 45.777157\n"
     ]
    }
   ],
   "source": [
    "# Evaluate model\n",
    "loss, accuracy = model.evaluate(X_test, Y_test, verbose=0)\n",
    "print('Accuracy: %f' % (accuracy*100))"
   ]
  },
  {
   "cell_type": "code",
   "execution_count": 69,
   "id": "4064efec",
   "metadata": {},
   "outputs": [],
   "source": [
    "model.compile(loss='categorical_crossentropy', optimizer='adam', metrics=['accuracy'])"
   ]
  },
  {
   "cell_type": "code",
   "execution_count": 70,
   "id": "66e3b187",
   "metadata": {},
   "outputs": [
    {
     "name": "stdout",
     "output_type": "stream",
     "text": [
      "Epoch 1/10\n",
      "404/404 [==============================] - 37s 87ms/step - loss: 0.0000e+00 - accuracy: 0.4850 - val_loss: 0.0000e+00 - val_accuracy: 0.4917\n",
      "Epoch 2/10\n",
      "404/404 [==============================] - 35s 86ms/step - loss: 0.0000e+00 - accuracy: 0.5078 - val_loss: 0.0000e+00 - val_accuracy: 0.5060\n",
      "Epoch 3/10\n",
      "404/404 [==============================] - 34s 85ms/step - loss: 0.0000e+00 - accuracy: 0.5170 - val_loss: 0.0000e+00 - val_accuracy: 0.5107\n",
      "Epoch 4/10\n",
      "404/404 [==============================] - 35s 85ms/step - loss: 0.0000e+00 - accuracy: 0.5203 - val_loss: 0.0000e+00 - val_accuracy: 0.5126\n",
      "Epoch 5/10\n",
      "404/404 [==============================] - 35s 86ms/step - loss: 0.0000e+00 - accuracy: 0.5222 - val_loss: 0.0000e+00 - val_accuracy: 0.5138\n",
      "Epoch 6/10\n",
      "404/404 [==============================] - 34s 84ms/step - loss: 0.0000e+00 - accuracy: 0.5237 - val_loss: 0.0000e+00 - val_accuracy: 0.5163\n",
      "Epoch 7/10\n",
      "404/404 [==============================] - 37s 91ms/step - loss: 0.0000e+00 - accuracy: 0.5249 - val_loss: 0.0000e+00 - val_accuracy: 0.5181\n",
      "Epoch 8/10\n",
      "404/404 [==============================] - 38s 94ms/step - loss: 0.0000e+00 - accuracy: 0.5261 - val_loss: 0.0000e+00 - val_accuracy: 0.5194\n",
      "Epoch 9/10\n",
      "404/404 [==============================] - 36s 89ms/step - loss: 0.0000e+00 - accuracy: 0.5274 - val_loss: 0.0000e+00 - val_accuracy: 0.5198\n",
      "Epoch 10/10\n",
      "404/404 [==============================] - 36s 89ms/step - loss: 0.0000e+00 - accuracy: 0.5283 - val_loss: 0.0000e+00 - val_accuracy: 0.5197\n"
     ]
    },
    {
     "data": {
      "text/plain": [
       "<keras.callbacks.History at 0x20d1d86c9a0>"
      ]
     },
     "execution_count": 70,
     "metadata": {},
     "output_type": "execute_result"
    }
   ],
   "source": [
    "# Train model\n",
    "model.fit(X_train, Y_train, validation_data=(X_test, Y_test), epochs=10, batch_size=128)"
   ]
  },
  {
   "cell_type": "code",
   "execution_count": 71,
   "id": "f26342d3",
   "metadata": {},
   "outputs": [
    {
     "name": "stdout",
     "output_type": "stream",
     "text": [
      "Accuracy: 51.968080\n"
     ]
    }
   ],
   "source": [
    "# Evaluate model\n",
    "loss, accuracy = model.evaluate(X_test, Y_test, verbose=0)\n",
    "print('Accuracy: %f' % (accuracy*100))"
   ]
  },
  {
   "cell_type": "code",
   "execution_count": 72,
   "id": "391f0358",
   "metadata": {},
   "outputs": [],
   "source": [
    "model.compile(loss='mean_squared_error', optimizer='adam', metrics=['mse'])"
   ]
  },
  {
   "cell_type": "code",
   "execution_count": 73,
   "id": "e6fdc586",
   "metadata": {},
   "outputs": [
    {
     "name": "stdout",
     "output_type": "stream",
     "text": [
      "Epoch 1/10\n",
      "404/404 [==============================] - 37s 89ms/step - loss: 0.4972 - mse: 0.4972 - val_loss: 0.5098 - val_mse: 0.5098\n",
      "Epoch 2/10\n",
      "404/404 [==============================] - 36s 88ms/step - loss: 0.4973 - mse: 0.4973 - val_loss: 0.5098 - val_mse: 0.5098\n",
      "Epoch 3/10\n",
      "404/404 [==============================] - 36s 88ms/step - loss: 0.4982 - mse: 0.4982 - val_loss: 0.5098 - val_mse: 0.5098\n",
      "Epoch 4/10\n",
      "404/404 [==============================] - 36s 88ms/step - loss: 0.4972 - mse: 0.4972 - val_loss: 0.5098 - val_mse: 0.5098\n",
      "Epoch 5/10\n",
      "404/404 [==============================] - 41s 103ms/step - loss: 0.4976 - mse: 0.4976 - val_loss: 0.5098 - val_mse: 0.5098\n",
      "Epoch 6/10\n",
      "404/404 [==============================] - 52s 129ms/step - loss: 0.4972 - mse: 0.4972 - val_loss: 0.5098 - val_mse: 0.5098\n",
      "Epoch 7/10\n",
      "404/404 [==============================] - 51s 127ms/step - loss: 0.4974 - mse: 0.4974 - val_loss: 0.5098 - val_mse: 0.5098\n",
      "Epoch 8/10\n",
      "404/404 [==============================] - 52s 128ms/step - loss: 0.4976 - mse: 0.4976 - val_loss: 0.5098 - val_mse: 0.5098\n",
      "Epoch 9/10\n",
      "404/404 [==============================] - 51s 127ms/step - loss: 0.4978 - mse: 0.4978 - val_loss: 0.5098 - val_mse: 0.5098\n",
      "Epoch 10/10\n",
      "404/404 [==============================] - 51s 127ms/step - loss: 0.4983 - mse: 0.4983 - val_loss: 0.5098 - val_mse: 0.5098\n"
     ]
    },
    {
     "data": {
      "text/plain": [
       "<keras.callbacks.History at 0x20d19226a60>"
      ]
     },
     "execution_count": 73,
     "metadata": {},
     "output_type": "execute_result"
    }
   ],
   "source": [
    "# Train model\n",
    "model.fit(X_train, Y_train, validation_data=(X_test, Y_test), epochs=10, batch_size=128)"
   ]
  },
  {
   "cell_type": "code",
   "execution_count": 74,
   "id": "aa76aa18",
   "metadata": {},
   "outputs": [
    {
     "name": "stdout",
     "output_type": "stream",
     "text": [
      "Accuracy: 50.984037\n"
     ]
    }
   ],
   "source": [
    "# Evaluate model\n",
    "loss, accuracy = model.evaluate(X_test, Y_test, verbose=0)\n",
    "print('Accuracy: %f' % (accuracy*100))"
   ]
  },
  {
   "cell_type": "code",
   "execution_count": null,
   "id": "c6b8a0f6",
   "metadata": {},
   "outputs": [],
   "source": []
  }
 ],
 "metadata": {
  "kernelspec": {
   "display_name": "Python 3 (ipykernel)",
   "language": "python",
   "name": "python3"
  },
  "language_info": {
   "codemirror_mode": {
    "name": "ipython",
    "version": 3
   },
   "file_extension": ".py",
   "mimetype": "text/x-python",
   "name": "python",
   "nbconvert_exporter": "python",
   "pygments_lexer": "ipython3",
   "version": "3.9.12"
  }
 },
 "nbformat": 4,
 "nbformat_minor": 5
}
