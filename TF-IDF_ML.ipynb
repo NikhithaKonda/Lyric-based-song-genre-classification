{
 "cells": [
  {
   "cell_type": "code",
   "execution_count": 22,
   "id": "a0ecf670",
   "metadata": {},
   "outputs": [],
   "source": [
    "import pandas as pd\n",
    "import numpy as np\n",
    "from sklearn.model_selection import train_test_split\n",
    "from sklearn.feature_extraction.text import CountVectorizer, TfidfTransformer\n",
    "from sklearn.ensemble import RandomForestClassifier, GradientBoostingClassifier\n",
    "from sklearn.naive_bayes import MultinomialNB\n",
    "from sklearn.pipeline import Pipeline\n",
    "from sklearn.metrics import accuracy_score, classification_report\n",
    "from sklearn.neural_network import MLPClassifier\n",
    "from sklearn.neighbors import KNeighborsClassifier\n",
    "from sklearn.svm import SVC\n",
    "from sklearn.linear_model import LogisticRegression"
   ]
  },
  {
   "cell_type": "code",
   "execution_count": 28,
   "id": "2d4ef169",
   "metadata": {},
   "outputs": [
    {
     "data": {
      "text/plain": [
       "'C:\\\\Users\\\\Karthiek Duggirala'"
      ]
     },
     "execution_count": 28,
     "metadata": {},
     "output_type": "execute_result"
    }
   ],
   "source": [
    "pwd"
   ]
  },
  {
   "cell_type": "code",
   "execution_count": 10,
   "id": "6e1fc98b",
   "metadata": {},
   "outputs": [],
   "source": [
    "df = pd.read_csv('C:\\\\Users\\\\Karthiek Duggirala\\\\Downloads\\\\preprocessed_data.csv')"
   ]
  },
  {
   "cell_type": "code",
   "execution_count": 11,
   "id": "3e915929",
   "metadata": {},
   "outputs": [
    {
     "data": {
      "text/html": [
       "<div>\n",
       "<style scoped>\n",
       "    .dataframe tbody tr th:only-of-type {\n",
       "        vertical-align: middle;\n",
       "    }\n",
       "\n",
       "    .dataframe tbody tr th {\n",
       "        vertical-align: top;\n",
       "    }\n",
       "\n",
       "    .dataframe thead th {\n",
       "        text-align: right;\n",
       "    }\n",
       "</style>\n",
       "<table border=\"1\" class=\"dataframe\">\n",
       "  <thead>\n",
       "    <tr style=\"text-align: right;\">\n",
       "      <th></th>\n",
       "      <th>lyrics</th>\n",
       "      <th>genre</th>\n",
       "    </tr>\n",
       "  </thead>\n",
       "  <tbody>\n",
       "    <tr>\n",
       "      <th>0</th>\n",
       "      <td>summer high school when we first met we would ...</td>\n",
       "      <td>pop</td>\n",
       "    </tr>\n",
       "    <tr>\n",
       "      <th>1</th>\n",
       "      <td>yeah yeah yeah i can feel phoenix inside me i ...</td>\n",
       "      <td>pop</td>\n",
       "    </tr>\n",
       "    <tr>\n",
       "      <th>2</th>\n",
       "      <td>told them your dream they started i guess you ...</td>\n",
       "      <td>pop</td>\n",
       "    </tr>\n",
       "    <tr>\n",
       "      <th>3</th>\n",
       "      <td>if i lost it today would you stay could my lov...</td>\n",
       "      <td>pop</td>\n",
       "    </tr>\n",
       "    <tr>\n",
       "      <th>4</th>\n",
       "      <td>nice leg daisy duke make man go that is the wa...</td>\n",
       "      <td>pop</td>\n",
       "    </tr>\n",
       "  </tbody>\n",
       "</table>\n",
       "</div>"
      ],
      "text/plain": [
       "                                              lyrics genre\n",
       "0  summer high school when we first met we would ...   pop\n",
       "1  yeah yeah yeah i can feel phoenix inside me i ...   pop\n",
       "2  told them your dream they started i guess you ...   pop\n",
       "3  if i lost it today would you stay could my lov...   pop\n",
       "4  nice leg daisy duke make man go that is the wa...   pop"
      ]
     },
     "execution_count": 11,
     "metadata": {},
     "output_type": "execute_result"
    }
   ],
   "source": [
    "df.head()"
   ]
  },
  {
   "cell_type": "code",
   "execution_count": 12,
   "id": "1ef56ba3",
   "metadata": {},
   "outputs": [
    {
     "data": {
      "text/plain": [
       "Index(['lyrics', 'genre'], dtype='object')"
      ]
     },
     "execution_count": 12,
     "metadata": {},
     "output_type": "execute_result"
    }
   ],
   "source": [
    "df.columns"
   ]
  },
  {
   "cell_type": "code",
   "execution_count": 13,
   "id": "2b0b2acf",
   "metadata": {},
   "outputs": [],
   "source": [
    "X_train, X_test, y_train, y_test = train_test_split(df['lyrics'], df['genre'], test_size=0.2, random_state=42)"
   ]
  },
  {
   "cell_type": "code",
   "execution_count": 14,
   "id": "3dbcde91",
   "metadata": {},
   "outputs": [
    {
     "data": {
      "text/plain": [
       "18698    sombre ceremony teary testimony hole ground fl...\n",
       "64464    dreaming tell difference mission godsent sacri...\n",
       "8596     mind side though remember name go get somehow ...\n",
       "4303     night left city dreamt wolf came wind cold tru...\n",
       "49139    shootin kill nword shootin kill nword fuckin w...\n",
       "Name: lyrics, dtype: object"
      ]
     },
     "execution_count": 14,
     "metadata": {},
     "output_type": "execute_result"
    }
   ],
   "source": [
    "X_train.head()"
   ]
  },
  {
   "cell_type": "code",
   "execution_count": 15,
   "id": "cbf3b0d3",
   "metadata": {},
   "outputs": [
    {
     "data": {
      "text/plain": [
       "18698       pop\n",
       "64464    hiphop\n",
       "8596        pop\n",
       "4303        pop\n",
       "49139    hiphop\n",
       "Name: genre, dtype: object"
      ]
     },
     "execution_count": 15,
     "metadata": {},
     "output_type": "execute_result"
    }
   ],
   "source": [
    "y_train.head()"
   ]
  },
  {
   "cell_type": "code",
   "execution_count": 16,
   "id": "d84e6d4f",
   "metadata": {},
   "outputs": [
    {
     "data": {
      "text/plain": [
       "(51621,)"
      ]
     },
     "execution_count": 16,
     "metadata": {},
     "output_type": "execute_result"
    }
   ],
   "source": [
    "X_train.shape"
   ]
  },
  {
   "cell_type": "code",
   "execution_count": 17,
   "id": "655dc693",
   "metadata": {},
   "outputs": [
    {
     "data": {
      "text/plain": [
       "(12906,)"
      ]
     },
     "execution_count": 17,
     "metadata": {},
     "output_type": "execute_result"
    }
   ],
   "source": [
    "X_test.shape"
   ]
  },
  {
   "cell_type": "code",
   "execution_count": 71,
   "id": "f3874ba4",
   "metadata": {},
   "outputs": [],
   "source": [
    "rf_pipeline = Pipeline([\n",
    "    ('vect', CountVectorizer()),\n",
    "    ('tfidf', TfidfTransformer()),\n",
    "    ('clf', RandomForestClassifier(random_state=42))\n",
    "])"
   ]
  },
  {
   "cell_type": "code",
   "execution_count": 72,
   "id": "e844634e",
   "metadata": {},
   "outputs": [
    {
     "data": {
      "text/plain": [
       "Pipeline(steps=[('vect', CountVectorizer()), ('tfidf', TfidfTransformer()),\n",
       "                ('clf', RandomForestClassifier(random_state=42))])"
      ]
     },
     "execution_count": 72,
     "metadata": {},
     "output_type": "execute_result"
    }
   ],
   "source": [
    "rf_pipeline.fit(X_train, y_train)"
   ]
  },
  {
   "cell_type": "code",
   "execution_count": 73,
   "id": "0c064717",
   "metadata": {},
   "outputs": [],
   "source": [
    "rf_pred = rf_pipeline.predict(X_test)"
   ]
  },
  {
   "cell_type": "code",
   "execution_count": 74,
   "id": "a2ef26bd",
   "metadata": {},
   "outputs": [],
   "source": [
    "rf_acc = accuracy_score(y_test, rf_pred)"
   ]
  },
  {
   "cell_type": "code",
   "execution_count": 75,
   "id": "69e300a1",
   "metadata": {},
   "outputs": [
    {
     "name": "stdout",
     "output_type": "stream",
     "text": [
      "Random Forest Classifier Accuracy: 0.7194328219432822\n",
      "              precision    recall  f1-score   support\n",
      "\n",
      "      hiphop       0.91      0.84      0.87      4263\n",
      "         pop       0.63      0.59      0.61      4230\n",
      "        rock       0.64      0.73      0.68      4413\n",
      "\n",
      "    accuracy                           0.72     12906\n",
      "   macro avg       0.73      0.72      0.72     12906\n",
      "weighted avg       0.73      0.72      0.72     12906\n",
      "\n"
     ]
    }
   ],
   "source": [
    "print(\"Random Forest Classifier Accuracy:\", rf_acc)\n",
    "print(classification_report(y_test, rf_pred))"
   ]
  },
  {
   "cell_type": "code",
   "execution_count": 76,
   "id": "cfc0155a",
   "metadata": {},
   "outputs": [],
   "source": [
    "# Gradient Boosting Classifier\n",
    "gb_pipeline = Pipeline([\n",
    "    ('vect', CountVectorizer()),\n",
    "    ('tfidf', TfidfTransformer()),\n",
    "    ('clf', GradientBoostingClassifier(random_state=42))\n",
    "])"
   ]
  },
  {
   "cell_type": "code",
   "execution_count": 77,
   "id": "e25d61c9",
   "metadata": {},
   "outputs": [
    {
     "data": {
      "text/plain": [
       "Pipeline(steps=[('vect', CountVectorizer()), ('tfidf', TfidfTransformer()),\n",
       "                ('clf', GradientBoostingClassifier(random_state=42))])"
      ]
     },
     "execution_count": 77,
     "metadata": {},
     "output_type": "execute_result"
    }
   ],
   "source": [
    "gb_pipeline.fit(X_train, y_train)"
   ]
  },
  {
   "cell_type": "code",
   "execution_count": 78,
   "id": "9f89691b",
   "metadata": {},
   "outputs": [],
   "source": [
    "gb_pred = gb_pipeline.predict(X_test)"
   ]
  },
  {
   "cell_type": "code",
   "execution_count": 79,
   "id": "cae34e58",
   "metadata": {},
   "outputs": [],
   "source": [
    "gb_acc = accuracy_score(y_test, gb_pred)"
   ]
  },
  {
   "cell_type": "code",
   "execution_count": 80,
   "id": "55bf5f61",
   "metadata": {},
   "outputs": [
    {
     "name": "stdout",
     "output_type": "stream",
     "text": [
      "Gradient Boosting Classifier Accuracy: 0.6892918022625135\n",
      "              precision    recall  f1-score   support\n",
      "\n",
      "      hiphop       0.91      0.79      0.85      4263\n",
      "         pop       0.59      0.57      0.58      4230\n",
      "        rock       0.61      0.71      0.66      4413\n",
      "\n",
      "    accuracy                           0.69     12906\n",
      "   macro avg       0.70      0.69      0.69     12906\n",
      "weighted avg       0.70      0.69      0.69     12906\n",
      "\n"
     ]
    }
   ],
   "source": [
    "print(\"Gradient Boosting Classifier Accuracy:\", gb_acc)\n",
    "print(classification_report(y_test, gb_pred))"
   ]
  },
  {
   "cell_type": "code",
   "execution_count": 81,
   "id": "4f746dfd",
   "metadata": {},
   "outputs": [],
   "source": [
    "# Multinomial Naive Bayes Classifier\n",
    "nb_pipeline = Pipeline([\n",
    "    ('vect', CountVectorizer()),\n",
    "    ('tfidf', TfidfTransformer()),\n",
    "    ('clf', MultinomialNB())\n",
    "])"
   ]
  },
  {
   "cell_type": "code",
   "execution_count": 82,
   "id": "88e6af2d",
   "metadata": {},
   "outputs": [
    {
     "data": {
      "text/plain": [
       "Pipeline(steps=[('vect', CountVectorizer()), ('tfidf', TfidfTransformer()),\n",
       "                ('clf', MultinomialNB())])"
      ]
     },
     "execution_count": 82,
     "metadata": {},
     "output_type": "execute_result"
    }
   ],
   "source": [
    "nb_pipeline.fit(X_train, y_train)"
   ]
  },
  {
   "cell_type": "code",
   "execution_count": 83,
   "id": "97529922",
   "metadata": {},
   "outputs": [],
   "source": [
    "nb_pred = nb_pipeline.predict(X_test)"
   ]
  },
  {
   "cell_type": "code",
   "execution_count": 84,
   "id": "2c95ce05",
   "metadata": {},
   "outputs": [],
   "source": [
    "nb_acc = accuracy_score(y_test, nb_pred)"
   ]
  },
  {
   "cell_type": "code",
   "execution_count": 85,
   "id": "8bd1a8dc",
   "metadata": {},
   "outputs": [
    {
     "name": "stdout",
     "output_type": "stream",
     "text": [
      "Multinomial Naive Bayes Classifier Accuracy: 0.6648070664807066\n",
      "              precision    recall  f1-score   support\n",
      "\n",
      "      hiphop       0.75      0.85      0.80      4263\n",
      "         pop       0.59      0.60      0.60      4230\n",
      "        rock       0.64      0.54      0.59      4413\n",
      "\n",
      "    accuracy                           0.66     12906\n",
      "   macro avg       0.66      0.67      0.66     12906\n",
      "weighted avg       0.66      0.66      0.66     12906\n",
      "\n"
     ]
    }
   ],
   "source": [
    "print(\"Multinomial Naive Bayes Classifier Accuracy:\", nb_acc)\n",
    "print(classification_report(y_test, nb_pred))"
   ]
  },
  {
   "cell_type": "code",
   "execution_count": 7,
   "id": "5f8af95b",
   "metadata": {},
   "outputs": [],
   "source": [
    "mlp_pipeline = Pipeline([\n",
    "    ('vect', CountVectorizer()),\n",
    "    ('tfidf', TfidfTransformer()),\n",
    "    ('clf', MLPClassifier(hidden_layer_sizes=(100,50), max_iter=1000))\n",
    "])"
   ]
  },
  {
   "cell_type": "code",
   "execution_count": 8,
   "id": "4117ce1e",
   "metadata": {},
   "outputs": [
    {
     "name": "stdout",
     "output_type": "stream",
     "text": [
      "Pipeline(steps=[('vect', CountVectorizer()), ('tfidf', TfidfTransformer()),\n",
      "                ('clf',\n",
      "                 MLPClassifier(hidden_layer_sizes=(100, 50), max_iter=1000))])\n"
     ]
    }
   ],
   "source": [
    "mlp_pipeline.fit(X_train, y_train)"
   ]
  },
  {
   "cell_type": "code",
   "execution_count": 98,
   "id": "ee9d948c",
   "metadata": {},
   "outputs": [],
   "source": [
    "mlp_pred = mlp_pipeline.predict(X_test)"
   ]
  },
  {
   "cell_type": "code",
   "execution_count": 99,
   "id": "08841f86",
   "metadata": {},
   "outputs": [
    {
     "name": "stdout",
     "output_type": "stream",
     "text": [
      "MLP Classifier accuracy: 0.6841004184100419\n"
     ]
    }
   ],
   "source": [
    "ml_acc = accuracy_score(y_test, mlp_pred)\n",
    "print('MLP Classifier accuracy:', accuracy)"
   ]
  },
  {
   "cell_type": "code",
   "execution_count": 100,
   "id": "ff2fd9c1",
   "metadata": {},
   "outputs": [
    {
     "name": "stdout",
     "output_type": "stream",
     "text": [
      "MLP Classifier Accuracy: 0.6841004184100419\n",
      "              precision    recall  f1-score   support\n",
      "\n",
      "      hiphop       0.75      0.85      0.80      4263\n",
      "         pop       0.59      0.60      0.60      4230\n",
      "        rock       0.64      0.54      0.59      4413\n",
      "\n",
      "    accuracy                           0.66     12906\n",
      "   macro avg       0.66      0.67      0.66     12906\n",
      "weighted avg       0.66      0.66      0.66     12906\n",
      "\n"
     ]
    }
   ],
   "source": [
    "print(\"MLP Classifier Accuracy:\", ml_acc)\n",
    "print(classification_report(y_test, nb_pred))"
   ]
  },
  {
   "cell_type": "code",
   "execution_count": 18,
   "id": "5eed0f32",
   "metadata": {},
   "outputs": [],
   "source": [
    "svm_pipeline = Pipeline([\n",
    "    ('vect', CountVectorizer()),\n",
    "    ('tfidf', TfidfTransformer()),\n",
    "    ('clf', SVC(kernel='linear', C=1, gamma='scale'))\n",
    "])"
   ]
  },
  {
   "cell_type": "code",
   "execution_count": 19,
   "id": "50e155c3",
   "metadata": {},
   "outputs": [
    {
     "name": "stdout",
     "output_type": "stream",
     "text": [
      "Pipeline(steps=[('vect', CountVectorizer()), ('tfidf', TfidfTransformer()),\n",
      "                ('clf', SVC(C=1, kernel='linear'))])\n"
     ]
    }
   ],
   "source": [
    "svm_pipeline.fit(X_train, y_train)"
   ]
  },
  {
   "cell_type": "code",
   "execution_count": null,
   "id": "69f3c974",
   "metadata": {},
   "outputs": [],
   "source": [
    "svm_pred = svm_pipeline.predict(X_test)"
   ]
  },
  {
   "cell_type": "code",
   "execution_count": null,
   "id": "d673cd24",
   "metadata": {},
   "outputs": [],
   "source": [
    "svm_acc = accuracy_score(y_test, svm_pred)"
   ]
  },
  {
   "cell_type": "code",
   "execution_count": 21,
   "id": "8c78aec6",
   "metadata": {},
   "outputs": [
    {
     "name": "stdout",
     "output_type": "stream",
     "text": [
      "SVM Classifier Accuracy : 0.6284328219432822\n",
      "              precision    recall  f1-score   support\n",
      "\n",
      "      hiphop       0.87      0.79      0.84      4263\n",
      "         pop       0.61      0.54      0.65      4293\n",
      "        rock       0.68      0.59      0.62      4457\n",
      "\n",
      "    accuracy                           0.72     12906\n",
      "   macro avg       0.73      0.72      0.72     12906\n",
      "weighted avg       0.73      0.72      0.72     12906\n"
     ]
    }
   ],
   "source": [
    "print(\"SVM Classifier Accuracy:\", svm_acc)\n",
    "print(classification_report(y_test, svm_pred))"
   ]
  },
  {
   "cell_type": "code",
   "execution_count": 16,
   "id": "2577feff",
   "metadata": {},
   "outputs": [],
   "source": [
    "knn_pipeline = Pipeline([\n",
    "    ('vect', CountVectorizer()),\n",
    "    ('tfidf', TfidfTransformer()),\n",
    "    ('clf', KNeighborsClassifier(n_neighbors=5))\n",
    "])"
   ]
  },
  {
   "cell_type": "code",
   "execution_count": 17,
   "id": "80b9fb60",
   "metadata": {},
   "outputs": [
    {
     "data": {
      "text/plain": [
       "Pipeline(steps=[('vect', CountVectorizer()), ('tfidf', TfidfTransformer()),\n",
       "                ('clf', KNeighborsClassifier())])"
      ]
     },
     "execution_count": 17,
     "metadata": {},
     "output_type": "execute_result"
    }
   ],
   "source": [
    "knn_pipeline.fit(X_train, y_train)"
   ]
  },
  {
   "cell_type": "code",
   "execution_count": 18,
   "id": "991290c2",
   "metadata": {},
   "outputs": [],
   "source": [
    "knn_pred = knn_pipeline.predict(X_test)"
   ]
  },
  {
   "cell_type": "code",
   "execution_count": 19,
   "id": "55f2d45a",
   "metadata": {},
   "outputs": [],
   "source": [
    "knn_acc = accuracy_score(y_test, knn_pred)"
   ]
  },
  {
   "cell_type": "code",
   "execution_count": 20,
   "id": "e73024d0",
   "metadata": {},
   "outputs": [
    {
     "name": "stdout",
     "output_type": "stream",
     "text": [
      "KNN Classifier Accuracy : 0.5328621283948262\n",
      "              precision    recall  f1-score   support\n",
      "\n",
      "      hiphop       0.76      0.71      0.74      4298\n",
      "         pop       0.61      0.63      0.54      4272\n",
      "        rock       0.64      0.57      0.62      4464\n",
      "\n",
      "    accuracy                           0.72     12906\n",
      "   macro avg       0.73      0.68      0.61     12906\n",
      "weighted avg       0.73      0.68      0.61     12906\n"
     ]
    }
   ],
   "source": [
    "print(\"KNN Classifier Accuracy:\", knn_acc)\n",
    "print(classification_report(y_test, knn_pred))"
   ]
  },
  {
   "cell_type": "code",
   "execution_count": 23,
   "id": "b533c72b",
   "metadata": {},
   "outputs": [],
   "source": [
    "lr_pipeline = Pipeline([\n",
    "    ('vect', CountVectorizer()),\n",
    "    ('tfidf', TfidfTransformer()),\n",
    "    ('clf', LogisticRegression(random_state=42, solver='liblinear', max_iter=1000))\n",
    "])"
   ]
  },
  {
   "cell_type": "code",
   "execution_count": 24,
   "id": "57d41d09",
   "metadata": {},
   "outputs": [
    {
     "data": {
      "text/plain": [
       "Pipeline(steps=[('vect', CountVectorizer()), ('tfidf', TfidfTransformer()),\n",
       "                ('clf',\n",
       "                 LogisticRegression(max_iter=1000, random_state=42,\n",
       "                                    solver='liblinear'))])"
      ]
     },
     "execution_count": 24,
     "metadata": {},
     "output_type": "execute_result"
    }
   ],
   "source": [
    "lr_pipeline.fit(X_train, y_train)"
   ]
  },
  {
   "cell_type": "code",
   "execution_count": 25,
   "id": "e689313f",
   "metadata": {},
   "outputs": [],
   "source": [
    "lr_pred = lr_pipeline.predict(X_test)"
   ]
  },
  {
   "cell_type": "code",
   "execution_count": 26,
   "id": "51a283ae",
   "metadata": {},
   "outputs": [],
   "source": [
    "lr_acc = accuracy_score(y_test, lr_pred)\n"
   ]
  },
  {
   "cell_type": "code",
   "execution_count": 27,
   "id": "e412459f",
   "metadata": {},
   "outputs": [
    {
     "name": "stdout",
     "output_type": "stream",
     "text": [
      "Logistic Regression Classifier Accuracy: 0.7026189369285604\n",
      "              precision    recall  f1-score   support\n",
      "\n",
      "      hiphop       0.90      0.81      0.85      4263\n",
      "         pop       0.60      0.59      0.60      4230\n",
      "        rock       0.63      0.70      0.67      4413\n",
      "\n",
      "    accuracy                           0.70     12906\n",
      "   macro avg       0.71      0.70      0.71     12906\n",
      "weighted avg       0.71      0.70      0.71     12906\n",
      "\n"
     ]
    }
   ],
   "source": [
    "print(\"Logistic Regression Classifier Accuracy:\", lr_acc)\n",
    "print(classification_report(y_test, lr_pred))"
   ]
  },
  {
   "cell_type": "code",
   "execution_count": null,
   "id": "c612e8f2",
   "metadata": {},
   "outputs": [],
   "source": []
  }
 ],
 "metadata": {
  "kernelspec": {
   "display_name": "Python 3 (ipykernel)",
   "language": "python",
   "name": "python3"
  },
  "language_info": {
   "codemirror_mode": {
    "name": "ipython",
    "version": 3
   },
   "file_extension": ".py",
   "mimetype": "text/x-python",
   "name": "python",
   "nbconvert_exporter": "python",
   "pygments_lexer": "ipython3",
   "version": "3.9.12"
  }
 },
 "nbformat": 4,
 "nbformat_minor": 5
}
